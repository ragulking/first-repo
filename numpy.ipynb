{
 "cells": [
  {
   "cell_type": "markdown",
   "id": "d21763a7-c026-4d94-9f0e-3600dc998027",
   "metadata": {},
   "source": [
    "         why numpy over list?\n",
    "         fast-contiguoes\n",
    "         memory efficent\n",
    "         convenience\n",
    "         multidimensional arrays\n",
    "         rich mathemitical\n",
    "         "
   ]
  },
  {
   "cell_type": "raw",
   "id": "583a3764-0f02-44d9-bc72-2093cddf6e36",
   "metadata": {},
   "source": [
    "         HOW TO CREATE AARRAY"
   ]
  },
  {
   "cell_type": "code",
   "execution_count": 3,
   "id": "dd1bed3c-b1b0-46a7-9522-217e0689d881",
   "metadata": {},
   "outputs": [],
   "source": [
    "import numpy as np  "
   ]
  },
  {
   "cell_type": "code",
   "execution_count": 4,
   "id": "c5f6e483-066f-4f67-80b5-0bf34dc640f9",
   "metadata": {},
   "outputs": [
    {
     "name": "stdout",
     "output_type": "stream",
     "text": [
      "[3 4 5 6]\n"
     ]
    }
   ],
   "source": [
    "import numpy as np #used ffor data handling and 2d adn 1d array\n",
    "n1 = np.array([3,4,5,6])\n",
    "print(n1)"
   ]
  },
  {
   "cell_type": "code",
   "execution_count": 4,
   "id": "ea1407d1-2882-498c-bfb1-8fbfb3ac27e8",
   "metadata": {},
   "outputs": [
    {
     "name": "stdout",
     "output_type": "stream",
     "text": [
      "[[ 1  2  3  4  5]\n",
      " [ 6  7  8  9 10]]\n"
     ]
    }
   ],
   "source": [
    "#creating 2d array\n",
    "n2 =np.array([[1,2,3,4,5],[6,7,8,9,10]])\n",
    "print(n2)"
   ]
  },
  {
   "cell_type": "code",
   "execution_count": 5,
   "id": "312ad8c8-8767-4347-8423-9f26512fc3a3",
   "metadata": {},
   "outputs": [
    {
     "name": "stdout",
     "output_type": "stream",
     "text": [
      "[[0 0 0 0 0 0 0 0]\n",
      " [0 0 0 0 0 0 0 0]\n",
      " [0 0 0 0 0 0 0 0]\n",
      " [0 0 0 0 0 0 0 0]\n",
      " [0 0 0 0 0 0 0 0]]\n"
     ]
    }
   ],
   "source": [
    "#how to priint zero filled 22d array\n",
    "n3  =np.zeros([5,8], dtype = 'int')\n",
    "print(n3)"
   ]
  },
  {
   "cell_type": "code",
   "execution_count": 6,
   "id": "56cfd3f0-5b1c-4964-9d5f-92b23c55387c",
   "metadata": {},
   "outputs": [
    {
     "name": "stdout",
     "output_type": "stream",
     "text": [
      "[[[1 1 1]\n",
      "  [1 1 1]\n",
      "  [1 1 1]]\n",
      "\n",
      " [[1 1 1]\n",
      "  [1 1 1]\n",
      "  [1 1 1]]]\n"
     ]
    }
   ],
   "source": [
    "#creating 3 dimentional arrau\n",
    "n4=np.ones([2,3,3],dtype = 'int') #-> [2,3,3] -> 2-rendu 2 d array , 3 and 3 are the 3 cross 3 matrixes we need\n",
    "print(n4)"
   ]
  },
  {
   "cell_type": "code",
   "execution_count": 7,
   "id": "1e39e3a5-7d45-4e7d-9ec1-e95d310d21c5",
   "metadata": {},
   "outputs": [
    {
     "name": "stdout",
     "output_type": "stream",
     "text": [
      "[10 12 14 16 18 20 22 24 26 28 30 32 34 36 38]\n"
     ]
    }
   ],
   "source": [
    "# how to create array of a some set of range of array like we nee a array neteweern 1-10\n",
    "n8 = np.arange(10,40,2)\n",
    "print(n8)"
   ]
  },
  {
   "cell_type": "code",
   "execution_count": 8,
   "id": "971188a3-e830-4a0d-af60-d5a300e32ee5",
   "metadata": {},
   "outputs": [
    {
     "name": "stdout",
     "output_type": "stream",
     "text": [
      "[[1835627552  170816357  538976288]]\n"
     ]
    }
   ],
   "source": [
    "#we can also create empty arry\n",
    "n6 = np.empty([1,3],dtype =\"int\")\n",
    "print(n6)"
   ]
  },
  {
   "cell_type": "code",
   "execution_count": 9,
   "id": "f242879d-afcc-4822-bfbb-fea2ee1c7468",
   "metadata": {},
   "outputs": [
    {
     "name": "stdout",
     "output_type": "stream",
     "text": [
      "[ 1.  3.  5.  7.  9. 11. 13. 15. 17. 19. 21. 23. 25. 27. 29. 31. 33. 35.\n",
      " 37. 39.]\n"
     ]
    }
   ],
   "source": [
    "n8 = np.arange(1,40,2,dtype = 'float')            #->(start,stop,step,dtype)\n",
    "print(n8)"
   ]
  },
  {
   "cell_type": "code",
   "execution_count": 6,
   "id": "58f81cd0-6445-42f0-a041-d7c3af78565a",
   "metadata": {},
   "outputs": [
    {
     "name": "stdout",
     "output_type": "stream",
     "text": [
      "[  2   4   6   8  10  12  14  16  18  20  22  24  26  28  30  32  34  36\n",
      "  38  40  42  44  46  48  50  52  54  56  58  60  62  64  66  68  70  72\n",
      "  74  76  78  80  82  84  86  88  90  92  94  96  98 100 102 104 106 108\n",
      " 110 112 114 116 118 120 122 124 126 128 130 132 134 136 138 140 142 144\n",
      " 146 148 150 152 154 156 158 160 162 164 166 168 170 172 174 176 178 180\n",
      " 182 184 186 188 190 192 194 196 198 200]\n"
     ]
    }
   ],
   "source": [
    "n9 = np.linspace(2,200 , num =100, dtype = 'int') #- > (start,stop,num=50,end=true) #num is the how much number we want\n",
    "print(n9)\n",
    "# linsapce  is used to create the 1d aray evenly spaced within  as specified intterval "
   ]
  },
  {
   "cell_type": "markdown",
   "id": "122c14d8-ad45-4954-8038-d396b429ab92",
   "metadata": {},
   "source": [
    "# logspace \n",
    "usde to craete 1d arr values evenly spaced on a logarthmitic scal with spefic range\n",
    " What is np.logspace()?\n",
    "numpy.logspace(start, stop, num=50, base=10.0, endpoint=True)\n",
    "\n",
    "It returns num values evenly spaced on a log scale, from:\n",
    "\n",
    "base\n",
    "start\n",
    "to\n",
    "base^\n",
    "stop\n",
    "base ^\n",
    "start\n",
    " tobase ^\n",
    "stop\n",
    " \n"
   ]
  },
  {
   "cell_type": "code",
   "execution_count": 22,
   "id": "69c8cb44-76cb-43c0-a01b-0510de762571",
   "metadata": {},
   "outputs": [
    {
     "name": "stdout",
     "output_type": "stream",
     "text": [
      "[         10 -2147483648]\n"
     ]
    },
    {
     "name": "stderr",
     "output_type": "stream",
     "text": [
      "C:\\Users\\ragul\\anaconda3\\Lib\\site-packages\\numpy\\core\\function_base.py:299: RuntimeWarning: invalid value encountered in cast\n",
      "  return _nx.power(base, y).astype(dtype, copy=False)\n"
     ]
    }
   ],
   "source": [
    "n0 = np.logspace(1,40,2,dtype = 'i')            #->(start,stop,step,dtype)\n",
    "print(n0)"
   ]
  },
  {
   "cell_type": "code",
   "execution_count": 24,
   "id": "cd5067c3-e20a-491e-86ed-295ec4eefddf",
   "metadata": {},
   "outputs": [
    {
     "name": "stdout",
     "output_type": "stream",
     "text": [
      "[  20.          89.4427191  400.        1788.854382  8000.       ]\n"
     ]
    }
   ],
   "source": [
    "import numpy as np\n",
    "\n",
    "arr = np.logspace(1, 3, num=5, base=20 , endpoint = True )\n",
    "print(arr)\n"
   ]
  },
  {
   "cell_type": "code",
   "execution_count": null,
   "id": "d9a0ff78-e198-42a0-8a81-90db4d6745c5",
   "metadata": {},
   "outputs": [],
   "source": []
  },
  {
   "cell_type": "code",
   "execution_count": 7,
   "id": "b7b55821-20cc-4019-976f-3d5cabaedfb9",
   "metadata": {},
   "outputs": [
    {
     "name": "stdout",
     "output_type": "stream",
     "text": [
      "[-5.         -4.9899898  -4.97998    -4.9699697  -4.95996    -4.9499497\n",
      " -4.93994    -4.9299297  -4.91992    -4.9099097  -4.8999     -4.8898897\n",
      " -4.87988    -4.8698697  -4.85986    -4.8498497  -4.83984    -4.8298297\n",
      " -4.81982    -4.8098097  -4.7998     -4.7897897  -4.77978    -4.7697697\n",
      " -4.75976    -4.7497497  -4.73974    -4.7297297  -4.71972    -4.7097096\n",
      " -4.6997     -4.6896896  -4.67968    -4.6696696  -4.65966    -4.6496496\n",
      " -4.63964    -4.6296296  -4.61962    -4.6096096  -4.5995994  -4.5895896\n",
      " -4.5795794  -4.5695696  -4.5595593  -4.5495496  -4.5395393  -4.5295296\n",
      " -4.5195193  -4.5095096  -4.4994993  -4.4894896  -4.4794793  -4.4694695\n",
      " -4.4594593  -4.4494495  -4.4394393  -4.4294295  -4.4194193  -4.4094095\n",
      " -4.3993993  -4.3893895  -4.3793793  -4.3693695  -4.3593593  -4.3493495\n",
      " -4.3393393  -4.3293295  -4.3193192  -4.3093095  -4.2992992  -4.2892895\n",
      " -4.279279   -4.2692695  -4.259259   -4.2492495  -4.239239   -4.2292295\n",
      " -4.219219   -4.2092094  -4.199199   -4.189189   -4.179179   -4.169169\n",
      " -4.159159   -4.149149   -4.139139   -4.129129   -4.119119   -4.109109\n",
      " -4.099099   -4.089089   -4.079079   -4.069069   -4.059059   -4.049049\n",
      " -4.039039   -4.029029   -4.019019   -4.009009   -3.9989989  -3.9889889\n",
      " -3.9789789  -3.9689689  -3.9589589  -3.9489489  -3.9389389  -3.9289289\n",
      " -3.9189188  -3.9089088  -3.8988988  -3.8888888  -3.8788788  -3.8688688\n",
      " -3.8588588  -3.8488488  -3.8388388  -3.8288288  -3.8188188  -3.8088088\n",
      " -3.7987988  -3.7887888  -3.7787788  -3.7687688  -3.7587588  -3.7487488\n",
      " -3.7387388  -3.7287288  -3.7187188  -3.7087088  -3.6986988  -3.6886888\n",
      " -3.6786788  -3.6686687  -3.6586587  -3.6486487  -3.6386387  -3.6286287\n",
      " -3.6186187  -3.6086087  -3.5985985  -3.5885885  -3.5785785  -3.5685685\n",
      " -3.5585585  -3.5485485  -3.5385385  -3.5285285  -3.5185184  -3.5085084\n",
      " -3.4984984  -3.4884884  -3.4784784  -3.4684684  -3.4584584  -3.4484484\n",
      " -3.4384384  -3.4284284  -3.4184184  -3.4084084  -3.3983984  -3.3883884\n",
      " -3.3783784  -3.3683684  -3.3583584  -3.3483484  -3.3383384  -3.3283284\n",
      " -3.3183184  -3.3083084  -3.2982984  -3.2882884  -3.2782784  -3.2682683\n",
      " -3.2582583  -3.2482483  -3.2382383  -3.2282283  -3.2182183  -3.2082083\n",
      " -3.198198   -3.188188   -3.178178   -3.168168   -3.158158   -3.148148\n",
      " -3.138138   -3.128128   -3.118118   -3.108108   -3.098098   -3.088088\n",
      " -3.078078   -3.068068   -3.058058   -3.048048   -3.038038   -3.028028\n",
      " -3.018018   -3.008008   -2.997998   -2.987988   -2.977978   -2.967968\n",
      " -2.957958   -2.947948   -2.937938   -2.927928   -2.917918   -2.907908\n",
      " -2.897898   -2.887888   -2.877878   -2.867868   -2.857858   -2.847848\n",
      " -2.837838   -2.827828   -2.817818   -2.807808   -2.7977977  -2.7877877\n",
      " -2.7777777  -2.7677677  -2.7577577  -2.7477477  -2.7377377  -2.7277277\n",
      " -2.7177176  -2.7077076  -2.6976976  -2.6876876  -2.6776776  -2.6676676\n",
      " -2.6576576  -2.6476476  -2.6376376  -2.6276276  -2.6176176  -2.6076076\n",
      " -2.5975976  -2.5875876  -2.5775776  -2.5675676  -2.5575576  -2.5475476\n",
      " -2.5375376  -2.5275276  -2.5175176  -2.5075076  -2.4974976  -2.4874876\n",
      " -2.4774776  -2.4674675  -2.4574575  -2.4474475  -2.4374375  -2.4274275\n",
      " -2.4174175  -2.4074075  -2.3973973  -2.3873873  -2.3773773  -2.3673673\n",
      " -2.3573573  -2.3473473  -2.3373373  -2.3273273  -2.3173172  -2.3073072\n",
      " -2.2972972  -2.2872872  -2.2772772  -2.2672672  -2.2572572  -2.2472472\n",
      " -2.2372372  -2.2272272  -2.2172172  -2.2072072  -2.1971972  -2.1871872\n",
      " -2.1771772  -2.1671672  -2.1571572  -2.1471472  -2.1371372  -2.1271272\n",
      " -2.1171172  -2.1071072  -2.0970972  -2.0870872  -2.0770772  -2.0670671\n",
      " -2.0570571  -2.0470471  -2.0370371  -2.0270271  -2.0170171  -2.0070071\n",
      " -1.996997   -1.986987   -1.976977   -1.966967   -1.956957   -1.946947\n",
      " -1.936937   -1.926927   -1.916917   -1.906907   -1.8968968  -1.8868868\n",
      " -1.8768768  -1.8668668  -1.8568568  -1.8468468  -1.8368368  -1.8268268\n",
      " -1.8168168  -1.8068068  -1.7967968  -1.7867868  -1.7767768  -1.7667668\n",
      " -1.7567568  -1.7467468  -1.7367368  -1.7267268  -1.7167168  -1.7067068\n",
      " -1.6966966  -1.6866866  -1.6766766  -1.6666666  -1.6566566  -1.6466466\n",
      " -1.6366366  -1.6266266  -1.6166166  -1.6066066  -1.5965966  -1.5865866\n",
      " -1.5765766  -1.5665666  -1.5565566  -1.5465466  -1.5365366  -1.5265266\n",
      " -1.5165166  -1.5065066  -1.4964964  -1.4864864  -1.4764764  -1.4664664\n",
      " -1.4564564  -1.4464464  -1.4364364  -1.4264264  -1.4164164  -1.4064064\n",
      " -1.3963964  -1.3863864  -1.3763764  -1.3663664  -1.3563564  -1.3463464\n",
      " -1.3363364  -1.3263264  -1.3163164  -1.3063064  -1.2962962  -1.2862862\n",
      " -1.2762762  -1.2662662  -1.2562562  -1.2462462  -1.2362362  -1.2262262\n",
      " -1.2162162  -1.2062062  -1.1961962  -1.1861862  -1.1761762  -1.1661662\n",
      " -1.1561562  -1.1461462  -1.1361362  -1.1261262  -1.1161162  -1.1061062\n",
      " -1.096096   -1.086086   -1.076076   -1.066066   -1.056056   -1.046046\n",
      " -1.036036   -1.026026   -1.016016   -1.006006   -0.995996   -0.985986\n",
      " -0.975976   -0.965966   -0.955956   -0.9459459  -0.9359359  -0.9259259\n",
      " -0.9159159  -0.9059059  -0.8958959  -0.8858859  -0.8758759  -0.8658659\n",
      " -0.8558559  -0.8458458  -0.8358358  -0.8258258  -0.8158158  -0.8058058\n",
      " -0.7957958  -0.7857858  -0.7757758  -0.7657658  -0.7557558  -0.7457457\n",
      " -0.7357357  -0.7257257  -0.7157157  -0.7057057  -0.6956957  -0.6856857\n",
      " -0.6756757  -0.6656657  -0.6556557  -0.6456456  -0.6356356  -0.6256256\n",
      " -0.6156156  -0.6056056  -0.5955956  -0.5855856  -0.5755756  -0.5655656\n",
      " -0.5555556  -0.5455455  -0.5355355  -0.5255255  -0.5155155  -0.5055055\n",
      " -0.4954955  -0.4854855  -0.4754755  -0.46546546 -0.45545545 -0.44544545\n",
      " -0.43543544 -0.42542544 -0.4154154  -0.4054054  -0.3953954  -0.3853854\n",
      " -0.3753754  -0.36536536 -0.35535535 -0.34534535 -0.33533534 -0.32532534\n",
      " -0.3153153  -0.3053053  -0.2952953  -0.2852853  -0.2752753  -0.26526526\n",
      " -0.25525525 -0.24524525 -0.23523523 -0.22522523 -0.21521522 -0.2052052\n",
      " -0.1951952  -0.18518518 -0.17517518 -0.16516517 -0.15515515 -0.14514515\n",
      " -0.13513513 -0.12512513 -0.11511511 -0.1051051  -0.0950951  -0.08508509\n",
      " -0.07507508 -0.06506506 -0.05505506 -0.04504504 -0.03503504 -0.02502503\n",
      " -0.01501502 -0.005005    0.005005    0.01501502  0.02502503  0.03503504\n",
      "  0.04504504  0.05505506  0.06506506  0.07507508  0.08508509  0.0950951\n",
      "  0.1051051   0.11511511  0.12512513  0.13513513  0.14514515  0.15515515\n",
      "  0.16516517  0.17517518  0.18518518  0.1951952   0.2052052   0.21521522\n",
      "  0.22522523  0.23523523  0.24524525  0.25525525  0.26526526  0.2752753\n",
      "  0.2852853   0.2952953   0.3053053   0.3153153   0.32532534  0.33533534\n",
      "  0.34534535  0.35535535  0.36536536  0.3753754   0.3853854   0.3953954\n",
      "  0.4054054   0.4154154   0.42542544  0.43543544  0.44544545  0.45545545\n",
      "  0.46546546  0.4754755   0.4854855   0.4954955   0.5055055   0.5155155\n",
      "  0.5255255   0.5355355   0.5455455   0.5555556   0.5655656   0.5755756\n",
      "  0.5855856   0.5955956   0.6056056   0.6156156   0.6256256   0.6356356\n",
      "  0.6456456   0.6556557   0.6656657   0.6756757   0.6856857   0.6956957\n",
      "  0.7057057   0.7157157   0.7257257   0.7357357   0.7457457   0.7557558\n",
      "  0.7657658   0.7757758   0.7857858   0.7957958   0.8058058   0.8158158\n",
      "  0.8258258   0.8358358   0.8458458   0.8558559   0.8658659   0.8758759\n",
      "  0.8858859   0.8958959   0.9059059   0.9159159   0.9259259   0.9359359\n",
      "  0.9459459   0.955956    0.965966    0.975976    0.985986    0.995996\n",
      "  1.006006    1.016016    1.026026    1.036036    1.046046    1.056056\n",
      "  1.066066    1.076076    1.086086    1.096096    1.1061062   1.1161162\n",
      "  1.1261262   1.1361362   1.1461462   1.1561562   1.1661662   1.1761762\n",
      "  1.1861862   1.1961962   1.2062062   1.2162162   1.2262262   1.2362362\n",
      "  1.2462462   1.2562562   1.2662662   1.2762762   1.2862862   1.2962962\n",
      "  1.3063064   1.3163164   1.3263264   1.3363364   1.3463464   1.3563564\n",
      "  1.3663664   1.3763764   1.3863864   1.3963964   1.4064064   1.4164164\n",
      "  1.4264264   1.4364364   1.4464464   1.4564564   1.4664664   1.4764764\n",
      "  1.4864864   1.4964964   1.5065066   1.5165166   1.5265266   1.5365366\n",
      "  1.5465466   1.5565566   1.5665666   1.5765766   1.5865866   1.5965966\n",
      "  1.6066066   1.6166166   1.6266266   1.6366366   1.6466466   1.6566566\n",
      "  1.6666666   1.6766766   1.6866866   1.6966966   1.7067068   1.7167168\n",
      "  1.7267268   1.7367368   1.7467468   1.7567568   1.7667668   1.7767768\n",
      "  1.7867868   1.7967968   1.8068068   1.8168168   1.8268268   1.8368368\n",
      "  1.8468468   1.8568568   1.8668668   1.8768768   1.8868868   1.8968968\n",
      "  1.906907    1.916917    1.926927    1.936937    1.946947    1.956957\n",
      "  1.966967    1.976977    1.986987    1.996997    2.0070071   2.0170171\n",
      "  2.0270271   2.0370371   2.0470471   2.0570571   2.0670671   2.0770772\n",
      "  2.0870872   2.0970972   2.1071072   2.1171172   2.1271272   2.1371372\n",
      "  2.1471472   2.1571572   2.1671672   2.1771772   2.1871872   2.1971972\n",
      "  2.2072072   2.2172172   2.2272272   2.2372372   2.2472472   2.2572572\n",
      "  2.2672672   2.2772772   2.2872872   2.2972972   2.3073072   2.3173172\n",
      "  2.3273273   2.3373373   2.3473473   2.3573573   2.3673673   2.3773773\n",
      "  2.3873873   2.3973973   2.4074075   2.4174175   2.4274275   2.4374375\n",
      "  2.4474475   2.4574575   2.4674675   2.4774776   2.4874876   2.4974976\n",
      "  2.5075076   2.5175176   2.5275276   2.5375376   2.5475476   2.5575576\n",
      "  2.5675676   2.5775776   2.5875876   2.5975976   2.6076076   2.6176176\n",
      "  2.6276276   2.6376376   2.6476476   2.6576576   2.6676676   2.6776776\n",
      "  2.6876876   2.6976976   2.7077076   2.7177176   2.7277277   2.7377377\n",
      "  2.7477477   2.7577577   2.7677677   2.7777777   2.7877877   2.7977977\n",
      "  2.807808    2.817818    2.827828    2.837838    2.847848    2.857858\n",
      "  2.867868    2.877878    2.887888    2.897898    2.907908    2.917918\n",
      "  2.927928    2.937938    2.947948    2.957958    2.967968    2.977978\n",
      "  2.987988    2.997998    3.008008    3.018018    3.028028    3.038038\n",
      "  3.048048    3.058058    3.068068    3.078078    3.088088    3.098098\n",
      "  3.108108    3.118118    3.128128    3.138138    3.148148    3.158158\n",
      "  3.168168    3.178178    3.188188    3.198198    3.2082083   3.2182183\n",
      "  3.2282283   3.2382383   3.2482483   3.2582583   3.2682683   3.2782784\n",
      "  3.2882884   3.2982984   3.3083084   3.3183184   3.3283284   3.3383384\n",
      "  3.3483484   3.3583584   3.3683684   3.3783784   3.3883884   3.3983984\n",
      "  3.4084084   3.4184184   3.4284284   3.4384384   3.4484484   3.4584584\n",
      "  3.4684684   3.4784784   3.4884884   3.4984984   3.5085084   3.5185184\n",
      "  3.5285285   3.5385385   3.5485485   3.5585585   3.5685685   3.5785785\n",
      "  3.5885885   3.5985985   3.6086087   3.6186187   3.6286287   3.6386387\n",
      "  3.6486487   3.6586587   3.6686687   3.6786788   3.6886888   3.6986988\n",
      "  3.7087088   3.7187188   3.7287288   3.7387388   3.7487488   3.7587588\n",
      "  3.7687688   3.7787788   3.7887888   3.7987988   3.8088088   3.8188188\n",
      "  3.8288288   3.8388388   3.8488488   3.8588588   3.8688688   3.8788788\n",
      "  3.8888888   3.8988988   3.9089088   3.9189188   3.9289289   3.9389389\n",
      "  3.9489489   3.9589589   3.9689689   3.9789789   3.9889889   3.9989989\n",
      "  4.009009    4.019019    4.029029    4.039039    4.049049    4.059059\n",
      "  4.069069    4.079079    4.089089    4.099099    4.109109    4.119119\n",
      "  4.129129    4.139139    4.149149    4.159159    4.169169    4.179179\n",
      "  4.189189    4.199199    4.2092094   4.219219    4.2292295   4.239239\n",
      "  4.2492495   4.259259    4.2692695   4.279279    4.2892895   4.2992992\n",
      "  4.3093095   4.3193192   4.3293295   4.3393393   4.3493495   4.3593593\n",
      "  4.3693695   4.3793793   4.3893895   4.3993993   4.4094095   4.4194193\n",
      "  4.4294295   4.4394393   4.4494495   4.4594593   4.4694695   4.4794793\n",
      "  4.4894896   4.4994993   4.5095096   4.5195193   4.5295296   4.5395393\n",
      "  4.5495496   4.5595593   4.5695696   4.5795794   4.5895896   4.5995994\n",
      "  4.6096096   4.61962     4.6296296   4.63964     4.6496496   4.65966\n",
      "  4.6696696   4.67968     4.6896896   4.6997      4.7097096   4.71972\n",
      "  4.7297297   4.73974     4.7497497   4.75976     4.7697697   4.77978\n",
      "  4.7897897   4.7998      4.8098097   4.81982     4.8298297   4.83984\n",
      "  4.8498497   4.85986     4.8698697   4.87988     4.8898897   4.8999\n",
      "  4.9099097   4.91992     4.9299297   4.93994     4.9499497   4.95996\n",
      "  4.9699697   4.97998     4.9899898   5.        ]\n"
     ]
    }
   ],
   "source": [
    "n8 = np.linspace(-5,5,num =1000,dtype = 'f', endpoint = True) # include s the stop lst vaeu that means 5 and false meand that excluudes the 5 and print all than that)            #->(start,stop,step,dtype)\n",
    "print(n8)"
   ]
  },
  {
   "cell_type": "code",
   "execution_count": 26,
   "id": "f9ca8f46-76d5-4ca7-aab6-ec157059e2dc",
   "metadata": {},
   "outputs": [
    {
     "name": "stdout",
     "output_type": "stream",
     "text": [
      "[[9 9 9]]\n"
     ]
    }
   ],
   "source": [
    "#we can als fill in the empty rray se the cell 7\n",
    "n6.fill(9)\n",
    "print(n6)"
   ]
  },
  {
   "cell_type": "code",
   "execution_count": 11,
   "id": "27b5de2f-47ef-4388-ab8b-a84a850a1d0e",
   "metadata": {},
   "outputs": [],
   "source": [
    "# how to acces the array vaues by their index"
   ]
  },
  {
   "cell_type": "code",
   "execution_count": 8,
   "id": "66b0feb3-d516-4926-9ae7-58eb26ac8846",
   "metadata": {},
   "outputs": [
    {
     "name": "stdout",
     "output_type": "stream",
     "text": [
      "5\n"
     ]
    }
   ],
   "source": [
    "print(n1[2])"
   ]
  },
  {
   "cell_type": "code",
   "execution_count": 58,
   "id": "99a32a7d-80bd-4267-a323-324fd924be25",
   "metadata": {},
   "outputs": [
    {
     "name": "stdout",
     "output_type": "stream",
     "text": [
      "[3 4 5 6]\n"
     ]
    }
   ],
   "source": [
    "print(n1[::1])"
   ]
  },
  {
   "cell_type": "code",
   "execution_count": 60,
   "id": "15d921b8-85ef-4bfd-8f69-231514a90e0f",
   "metadata": {},
   "outputs": [
    {
     "name": "stdout",
     "output_type": "stream",
     "text": [
      "[14 18 22 26 30 34 38]\n"
     ]
    }
   ],
   "source": [
    "print(n8[2:30:2])"
   ]
  },
  {
   "cell_type": "code",
   "execution_count": 12,
   "id": "d0add7c0-fbf5-47d3-9464-543e1968543b",
   "metadata": {},
   "outputs": [
    {
     "ename": "NameError",
     "evalue": "name 'n4' is not defined",
     "output_type": "error",
     "traceback": [
      "\u001b[1;31m---------------------------------------------------------------------------\u001b[0m",
      "\u001b[1;31mNameError\u001b[0m                                 Traceback (most recent call last)",
      "Cell \u001b[1;32mIn[12], line 1\u001b[0m\n\u001b[1;32m----> 1\u001b[0m \u001b[38;5;28mprint\u001b[39m(n4[\u001b[38;5;241m1\u001b[39m,\u001b[38;5;241m2\u001b[39m]) \u001b[38;5;66;03m# -> row column 2d rray\u001b[39;00m\n\u001b[0;32m      2\u001b[0m \u001b[38;5;28mprint\u001b[39m(\u001b[38;5;28msum\u001b[39m(n4[\u001b[38;5;241m1\u001b[39m]))\n",
      "\u001b[1;31mNameError\u001b[0m: name 'n4' is not defined"
     ]
    }
   ],
   "source": [
    "print(n4[1,2]) # -> row column 2d rray\n",
    "print(sum(n4[1]))\n"
   ]
  },
  {
   "cell_type": "code",
   "execution_count": 10,
   "id": "12bf1870-3ba1-4f2e-a37e-cdb8ea104594",
   "metadata": {},
   "outputs": [
    {
     "ename": "NameError",
     "evalue": "name 'n4' is not defined",
     "output_type": "error",
     "traceback": [
      "\u001b[1;31m---------------------------------------------------------------------------\u001b[0m",
      "\u001b[1;31mNameError\u001b[0m                                 Traceback (most recent call last)",
      "Cell \u001b[1;32mIn[10], line 3\u001b[0m\n\u001b[0;32m      1\u001b[0m \u001b[38;5;66;03m#change the value in the 3 d marix\u001b[39;00m\n\u001b[0;32m      2\u001b[0m \u001b[38;5;66;03m#firt\u001b[39;00m\n\u001b[1;32m----> 3\u001b[0m \u001b[38;5;28mprint\u001b[39m(n4)\n",
      "\u001b[1;31mNameError\u001b[0m: name 'n4' is not defined"
     ]
    }
   ],
   "source": [
    "#change the value in the 3 d marix\n",
    "#firt\n",
    "print(n4)                                  # the below 3d has the two matrix o and 1\n",
    "#if i want to change he values with the respective matrix ie. 0 or 1 and specify the colum adn row \n"
   ]
  },
  {
   "cell_type": "code",
   "execution_count": 69,
   "id": "d72a0997-00d4-43f0-acc6-fac2dcae3d53",
   "metadata": {},
   "outputs": [],
   "source": [
    "n4[0,1,2]  = 50\n",
    "n4[1,2,2]  = 60"
   ]
  },
  {
   "cell_type": "code",
   "execution_count": 21,
   "id": "93dda9ac-590c-4869-af3f-bb2c3927f9aa",
   "metadata": {},
   "outputs": [
    {
     "ename": "NameError",
     "evalue": "name 'n4' is not defined",
     "output_type": "error",
     "traceback": [
      "\u001b[1;31m---------------------------------------------------------------------------\u001b[0m",
      "\u001b[1;31mNameError\u001b[0m                                 Traceback (most recent call last)",
      "Cell \u001b[1;32mIn[21], line 1\u001b[0m\n\u001b[1;32m----> 1\u001b[0m \u001b[38;5;28mprint\u001b[39m(n4)\n",
      "\u001b[1;31mNameError\u001b[0m: name 'n4' is not defined"
     ]
    }
   ],
   "source": [
    "print(n4)"
   ]
  },
  {
   "cell_type": "markdown",
   "id": "c025cf6e-2000-4401-b927-2202feee5547",
   "metadata": {},
   "source": [
    "shaping adnd slicing "
   ]
  },
  {
   "cell_type": "code",
   "execution_count": 22,
   "id": "b452204c-f94f-4677-9916-5642380afc91",
   "metadata": {},
   "outputs": [
    {
     "name": "stdout",
     "output_type": "stream",
     "text": [
      "(2, 3, 3)\n"
     ]
    }
   ],
   "source": [
    "print(n4.shape)"
   ]
  },
  {
   "cell_type": "code",
   "execution_count": 23,
   "id": "3f78f8e1-ea68-4f38-8b17-95e19d56cf37",
   "metadata": {},
   "outputs": [
    {
     "name": "stdout",
     "output_type": "stream",
     "text": [
      "18\n"
     ]
    }
   ],
   "source": [
    "print(n4.size)"
   ]
  },
  {
   "cell_type": "code",
   "execution_count": 24,
   "id": "3a0ec623-8249-482a-ab8b-60f0b216900b",
   "metadata": {},
   "outputs": [
    {
     "name": "stdout",
     "output_type": "stream",
     "text": [
      "int32\n"
     ]
    }
   ],
   "source": [
    "print(n4.dtype)"
   ]
  },
  {
   "cell_type": "code",
   "execution_count": 25,
   "id": "a60554a1-f8b2-4f47-8ba9-3da84b1ba7fd",
   "metadata": {},
   "outputs": [
    {
     "name": "stdout",
     "output_type": "stream",
     "text": [
      "3\n"
     ]
    }
   ],
   "source": [
    "print(n4.ndim) # ndim gives the dimnsion of a matrix or the axi f the martrix"
   ]
  },
  {
   "cell_type": "code",
   "execution_count": 26,
   "id": "bda4b436-0540-4255-b38a-43b96f1dfd85",
   "metadata": {},
   "outputs": [
    {
     "name": "stdout",
     "output_type": "stream",
     "text": [
      "72\n"
     ]
    }
   ],
   "source": [
    "print(n4.nbytes) # ndim gives the dimnsion of a matrix or the axi f the martrix"
   ]
  },
  {
   "cell_type": "markdown",
   "id": "a23cd4bb-539b-4602-b355-a1d4647e8016",
   "metadata": {},
   "source": [
    "sorting"
   ]
  },
  {
   "cell_type": "code",
   "execution_count": 27,
   "id": "6dab361b-822d-45d3-97f8-967018d990e1",
   "metadata": {},
   "outputs": [
    {
     "name": "stdout",
     "output_type": "stream",
     "text": [
      "[ 1  2  2  3  3  6  7  9  9 15]\n"
     ]
    }
   ],
   "source": [
    "ss = np.sort([1,2,3,6,9,3,2,7,9,15])   # 1d sort\n",
    "print(ss)"
   ]
  },
  {
   "cell_type": "code",
   "execution_count": 30,
   "id": "7d5887c3-9d4c-4358-ac54-01c9a1503e53",
   "metadata": {},
   "outputs": [
    {
     "name": "stdout",
     "output_type": "stream",
     "text": [
      "[[   1    2    3    4    7    8    9   10  150]\n",
      " [  10   14   23   35   65  234  400  445 2332]]\n"
     ]
    }
   ],
   "source": [
    " \n",
    "sd = np.sort([[10,9,8,7,4,3,2,1,150], [14,400,35,23,65,2332,445,234,10]])   # 2d sort\n",
    "print(sd)"
   ]
  },
  {
   "cell_type": "markdown",
   "id": "565d1207-7120-4644-8474-8055b57a42b0",
   "metadata": {},
   "source": [
    "# if you sort\n",
    "by coloum 1\n",
    "2\n",
    "3 #ike that"
   ]
  },
  {
   "cell_type": "code",
   "execution_count": 26,
   "id": "27fadd78-f609-41aa-aa3c-8a6d3e95b21d",
   "metadata": {},
   "outputs": [
    {
     "name": "stdout",
     "output_type": "stream",
     "text": [
      "[[   1    2    3    4    7    8    9   10  150]\n",
      " [  10   14   23   35   65  234  400  445 2332]]\n"
     ]
    }
   ],
   "source": [
    "sm = np.sort(sd , axis = 0)\n",
    "print(sm)\n",
    "\n"
   ]
  },
  {
   "cell_type": "markdown",
   "id": "5e210158-8399-4268-b801-254610ec26ea",
   "metadata": {},
   "source": [
    "reshape the array\n"
   ]
  },
  {
   "cell_type": "code",
   "execution_count": 25,
   "id": "5c02cb6f-8769-4796-a3e1-82b6b2df8f6a",
   "metadata": {},
   "outputs": [
    {
     "name": "stdout",
     "output_type": "stream",
     "text": [
      "[1 2 3 4 5 6 7 8]\n"
     ]
    }
   ],
   "source": [
    "n1 = np.array(5,6,7,8][1,2,3,4,)\n",
    "print(n1)"
   ]
  },
  {
   "cell_type": "code",
   "execution_count": 28,
   "id": "24311609-6940-4ebb-8004-a7abbeafb377",
   "metadata": {},
   "outputs": [
    {
     "name": "stdout",
     "output_type": "stream",
     "text": [
      "[[1 2 3 4]\n",
      " [5 6 7 8]]\n"
     ]
    }
   ],
   "source": [
    "n10 = n1.reshape(2,4) \n",
    "print(n10)"
   ]
  },
  {
   "cell_type": "code",
   "execution_count": 31,
   "id": "b29263db-7273-4b34-b935-7b35337f3aaf",
   "metadata": {
    "scrolled": true
   },
   "outputs": [
    {
     "name": "stdout",
     "output_type": "stream",
     "text": [
      "[1 2 3 4]\n",
      "[5 6 7 8]\n"
     ]
    }
   ],
   "source": [
    "#joining the 2 arays\n",
    "n11 = np.arange(1,5)\n",
    "print(n11)\n",
    "n12 = np.arange(5,9)\n",
    "print(n12)"
   ]
  },
  {
   "cell_type": "code",
   "execution_count": 32,
   "id": "f0279ddb-2ca9-48e4-b67a-e149ee762096",
   "metadata": {},
   "outputs": [
    {
     "name": "stdout",
     "output_type": "stream",
     "text": [
      "[1 2 3 4 5 6 7 8]\n"
     ]
    }
   ],
   "source": [
    "#we can concat\n",
    "n13 = np.concatenate((n11,n12))\n",
    "print(n13)"
   ]
  },
  {
   "cell_type": "code",
   "execution_count": 33,
   "id": "ff264888-f990-4e87-96df-edf9acbc02d6",
   "metadata": {},
   "outputs": [
    {
     "name": "stdout",
     "output_type": "stream",
     "text": [
      "[[1 2 3 4 5 6 7 8]]\n",
      "(1, 8)\n"
     ]
    }
   ],
   "source": [
    "n14 = n13[np.newaxis,:]\n",
    "print(n14)\n",
    "\n",
    "\n",
    "print(n14.shape)"
   ]
  },
  {
   "cell_type": "code",
   "execution_count": 97,
   "id": "359adac0-73f5-4e02-842b-7f02ab5f66b3",
   "metadata": {},
   "outputs": [
    {
     "ename": "NameError",
     "evalue": "name 'n13' is not defined",
     "output_type": "error",
     "traceback": [
      "\u001b[1;31m---------------------------------------------------------------------------\u001b[0m",
      "\u001b[1;31mNameError\u001b[0m                                 Traceback (most recent call last)",
      "Cell \u001b[1;32mIn[97], line 1\u001b[0m\n\u001b[1;32m----> 1\u001b[0m n16 \u001b[38;5;241m=\u001b[39m n13[:,np\u001b[38;5;241m.\u001b[39mnewaxis]\n\u001b[0;32m      2\u001b[0m \u001b[38;5;28mprint\u001b[39m(n16 )\n\u001b[0;32m      3\u001b[0m \u001b[38;5;28mprint\u001b[39m(n16\u001b[38;5;241m.\u001b[39mshape)\n",
      "\u001b[1;31mNameError\u001b[0m: name 'n13' is not defined"
     ]
    }
   ],
   "source": [
    "n16 = n13[:,np.newaxis]\n",
    "print(n16 )\n",
    "print(n16.shape)"
   ]
  },
  {
   "cell_type": "markdown",
   "id": "72455c09-795e-4cc1-9983-76b2d7418adf",
   "metadata": {},
   "source": [
    "index  and the slicing"
   ]
  },
  {
   "cell_type": "code",
   "execution_count": 41,
   "id": "d712ab76-c1e3-41d5-b099-f23e51f6c67d",
   "metadata": {},
   "outputs": [
    {
     "name": "stdout",
     "output_type": "stream",
     "text": [
      "[0 1 2 3 4 5 6 7 8 9]\n"
     ]
    }
   ],
   "source": [
    "new = np.arange(10)\n",
    "print(new)"
   ]
  },
  {
   "cell_type": "code",
   "execution_count": 44,
   "id": "cf0a6924-233e-4248-af0b-c732de098419",
   "metadata": {},
   "outputs": [
    {
     "name": "stdout",
     "output_type": "stream",
     "text": [
      "[False False False False  True  True  True  True  True  True]\n",
      "[6 7 8 9]\n"
     ]
    }
   ],
   "source": [
    "print(new>3) # thise check the value not filter it by the condition right but the below is verce visa\n",
    "neww = new > 5\n",
    "print(new[neww])"
   ]
  },
  {
   "cell_type": "code",
   "execution_count": 48,
   "id": "41e083a2-f668-40f4-a765-f4ab897f759d",
   "metadata": {},
   "outputs": [
    {
     "name": "stdout",
     "output_type": "stream",
     "text": [
      "[3 5 7]\n"
     ]
    }
   ],
   "source": [
    "print(new[3:9:2]) #3 start , 9 stop , 2 step"
   ]
  },
  {
   "cell_type": "markdown",
   "id": "b209270f-ebdd-40aa-a777-884eccd254c0",
   "metadata": {},
   "source": [
    "stack adn split"
   ]
  },
  {
   "cell_type": "code",
   "execution_count": 65,
   "id": "fcee44e6-6c99-4d56-acb0-e99d1f96606b",
   "metadata": {},
   "outputs": [
    {
     "name": "stdout",
     "output_type": "stream",
     "text": [
      "[[1 2 3 1 2 3]\n",
      " [4 5 6 4 5 6]]\n"
     ]
    }
   ],
   "source": [
    "n22 = np.array([[1,2,3],[4,5,6]])\n",
    "n33 = np.array([[1,2,3],[4,5,6]])\n",
    "n44 = np.hstack((n22,n33 ))     #hstack → horizontal (adds columns). #vstack → vertical (adds rows\n",
    "n45 = np.vstack((n22,n33 ))\n",
    "print(n44)\n"
   ]
  },
  {
   "cell_type": "code",
   "execution_count": 66,
   "id": "94da7eeb-a3d9-4ea0-be91-33a4ffaa9263",
   "metadata": {},
   "outputs": [
    {
     "name": "stdout",
     "output_type": "stream",
     "text": [
      "[[1 2 3]\n",
      " [4 5 6]\n",
      " [1 2 3]\n",
      " [4 5 6]]\n"
     ]
    }
   ],
   "source": [
    "print(n45)"
   ]
  },
  {
   "cell_type": "code",
   "execution_count": 35,
   "id": "711f3ee8-10dc-47b9-bf05-a241ff4c1d78",
   "metadata": {},
   "outputs": [
    {
     "name": "stdout",
     "output_type": "stream",
     "text": [
      "36\n",
      "4.5\n"
     ]
    }
   ],
   "source": [
    "n1 = np.array([1,2,3,4,5,6,7,8])\n",
    "summ = n1.sum()\n",
    "print(summ)\n",
    "print(n1.mean())\n",
    " "
   ]
  },
  {
   "cell_type": "markdown",
   "id": "613b7550-9fd4-4d3c-bf57-77015e0ec0a6",
   "metadata": {},
   "source": [
    "# data types for numpy"
   ]
  },
  {
   "cell_type": "code",
   "execution_count": 6,
   "id": "4b515c9f-43fd-4f3f-902d-2a9b6167b9db",
   "metadata": {},
   "outputs": [
    {
     "name": "stdout",
     "output_type": "stream",
     "text": [
      "-1826 days\n",
      "<class 'numpy.timedelta64'>\n"
     ]
    }
   ],
   "source": [
    "#datetime \n",
    "import numpy as np\n",
    "date_1 = np.datetime64('20024-07-06')\n",
    "date_2 = np.datetime64('20029-07-06')\n",
    "time_difference = date_1 - date_2\n",
    "print(time_difference)\n",
    "print(type(time_difference))"
   ]
  },
  {
   "cell_type": "code",
   "execution_count": 8,
   "id": "c0e0e586-2229-4501-92ae-f9494b7d8316",
   "metadata": {},
   "outputs": [
    {
     "name": "stdout",
     "output_type": "stream",
     "text": [
      "2005-07-06T13:00:00\n",
      "<class 'numpy.datetime64'>\n"
     ]
    }
   ],
   "source": [
    "date_time = np.datetime64('2005-07-06 13:00:00')\n",
    "print(date_time)\n",
    "print(type(date_time))"
   ]
  },
  {
   "cell_type": "markdown",
   "id": "c5014fd9-1344-40e9-98c7-aee6f20b170a",
   "metadata": {},
   "source": [
    "# object we can create the multiple dataye iinside the array\n"
   ]
  },
  {
   "cell_type": "code",
   "execution_count": 14,
   "id": "c5bcce77-a7d1-4702-9a27-5a01d30f7804",
   "metadata": {},
   "outputs": [
    {
     "name": "stdout",
     "output_type": "stream",
     "text": [
      "[1 2 3.0 False list([1, 2, 3, 24]) 'rahul']\n",
      "<class 'numpy.ndarray'>\n"
     ]
    }
   ],
   "source": [
    "import numpy as np\n",
    "obj = np.array([1,2,3.0,False,[1,2,3,24],'rahul'] , dtype = object)\n",
    "print(obj)\n",
    "print(type(obj))\n"
   ]
  },
  {
   "cell_type": "markdown",
   "id": "1f37fb2e-7c4d-4898-b225-b2324c091f96",
   "metadata": {},
   "source": [
    "# datatype converstion"
   ]
  },
  {
   "cell_type": "code",
   "execution_count": 19,
   "id": "c2cf18b2-49cb-4ee2-82ce-01ca94cd9e98",
   "metadata": {},
   "outputs": [
    {
     "name": "stdout",
     "output_type": "stream",
     "text": [
      "<class 'numpy.ndarray'>\n"
     ]
    }
   ],
   "source": [
    "#int to float\n",
    "ar = np.array([1,2,3,4])\n",
    "ar_float =  ar.astype(np.float64)\n",
    "print(type(ar_float))\n"
   ]
  },
  {
   "cell_type": "code",
   "execution_count": 24,
   "id": "15c3ed53-d07e-43eb-a13d-45f4ec9b9a3f",
   "metadata": {},
   "outputs": [
    {
     "name": "stdout",
     "output_type": "stream",
     "text": [
      "[3.4 1.5 6.5 3.4 2.1]\n",
      "[3 1 6 3 2]\n",
      "<class 'numpy.ndarray'>\n"
     ]
    }
   ],
   "source": [
    "#float to int\n",
    "ar_float = np.array([3.4,1.5,6.5,3.4,2.1] ,dtype = 'f')\n",
    "ar_int = ar_float.astype(np.int32)\n",
    "print(ar_float)\n",
    "print(ar_int)\n",
    "print(type(ar_float))"
   ]
  },
  {
   "cell_type": "markdown",
   "id": "2f34d95a-4421-469f-aa8f-a0198e1f3bc3",
   "metadata": {},
   "source": [
    "# array attributes"
   ]
  },
  {
   "cell_type": "code",
   "execution_count": 1,
   "id": "8fc3ffb4-f306-4b51-832e-2ae3be29f69c",
   "metadata": {},
   "outputs": [
    {
     "name": "stdout",
     "output_type": "stream",
     "text": [
      "(10,)\n"
     ]
    }
   ],
   "source": [
    "import numpy as np\n",
    "ar = np.array([1,2,3,4,5,3837,2,8590,43598,43885790394])\n",
    "print(ar.shape)"
   ]
  },
  {
   "cell_type": "code",
   "execution_count": 4,
   "id": "c25bca19-cda9-4752-aa38-6c4567467d85",
   "metadata": {},
   "outputs": [
    {
     "name": "stdout",
     "output_type": "stream",
     "text": [
      "(2, 3)\n",
      "2\n",
      "(12, 4)\n",
      "[1, 2, 3, 1, 2, 3]\n"
     ]
    }
   ],
   "source": [
    "import numpy as np\n",
    "a = np.array([\n",
    "    [1,2,3],\n",
    "    [1,2,3]\n",
    "])\n",
    "print(a.shape)\n",
    "print(a.ndim)\n",
    "print(a.strides)  #--> strides means Think of a NumPy array as a table stored in memory (like in a notebook).The strides tell Python how far to jump in memory to reach the next element.\n",
    "print(list(a.flat))\n"
   ]
  },
  {
   "cell_type": "code",
   "execution_count": 9,
   "id": "fd3c78cd-b479-4079-8111-bd4c1847eff0",
   "metadata": {},
   "outputs": [
    {
     "name": "stdout",
     "output_type": "stream",
     "text": [
      "(4,)\n",
      "(20, 4)\n"
     ]
    }
   ],
   "source": [
    "import numpy as np\n",
    "a = np.array([10, 20, 30, 40], dtype=np.int32)#Each number (int32) = 4 bytes.To go from 10 → 20, Python jumps 4 bytes. So stride = 4.\n",
    "print(a.strides)\n",
    "b = np.array([[1, 2, 3 ,4, 5],\n",
    "              [4, 5, 6, 6 ,6]], dtype=np.int32)\n",
    "print(b.strides)\n",
    "\n",
    "#To move down one row (from 1 to 4), Python skips 12 bytes (because one row has 3 numbers × 4 bytes).\n",
    "\n",
    "#To move right one column (from 1 to 2), Python skips 4 bytes (just one number)."
   ]
  },
  {
   "cell_type": "markdown",
   "id": "6309fd75-f356-4970-9a4e-3fcf9f317469",
   "metadata": {},
   "source": [
    "# nd ara vs aray"
   ]
  },
  {
   "cell_type": "code",
   "execution_count": 43,
   "id": "e1b163e0-ffeb-497b-9acd-dcc1bcec13f1",
   "metadata": {},
   "outputs": [
    {
     "name": "stdout",
     "output_type": "stream",
     "text": [
      "[1 2 3 4 4]\n"
     ]
    }
   ],
   "source": [
    "arr # -> 1 object = np.array([1,2,3,4,4]) # -> array \n",
    "print(arr) #arr-> nd array we can do operations on that \n",
    "\n"
   ]
  },
  {
   "cell_type": "code",
   "execution_count": 11,
   "id": "af540b59-8eba-4c51-8432-415074af4689",
   "metadata": {},
   "outputs": [
    {
     "name": "stdout",
     "output_type": "stream",
     "text": [
      "[[1 2 3]\n",
      " [2 4 5]]\n"
     ]
    }
   ],
   "source": [
    "arr = np.array([\n",
    "    [1,2,3],\n",
    "    [2,4,5]\n",
    "])\n",
    "\n",
    "\n",
    "print(arr)"
   ]
  },
  {
   "cell_type": "code",
   "execution_count": 17,
   "id": "bdd5dcd0-26b8-4ef5-80fd-f58b250491f2",
   "metadata": {
    "scrolled": true
   },
   "outputs": [
    {
     "name": "stdout",
     "output_type": "stream",
     "text": [
      "5\n",
      "[2 4 5]\n",
      "[1 2]\n"
     ]
    }
   ],
   "source": [
    "print(arr.max())\n",
    "print(arr.max(axis = 0))\n",
    "#    [1,2,3] ->  axis =0 means colum like it checcks the 1 and 2 whuich max ant  2,4 whd nexich max and impotant *** if you give arr.max() i will give max num in arr\n",
    "    #[2,4,5]\n",
    "\n",
    "print(arr.min(axis = 1))"
   ]
  },
  {
   "cell_type": "markdown",
   "id": "36231417-dbe6-43ea-9dad-a638444f8f80",
   "metadata": {},
   "source": [
    "print(arr.argmax())\n",
    "print(ar.argmax())\n"
   ]
  },
  {
   "cell_type": "markdown",
   "id": "0d79e341-72cd-4616-96ca-a70e49582954",
   "metadata": {},
   "source": [
    "b = np.array([[1, 3], [7, 2]]) # -> [0,1],[2,3]\n",
    "print(np.argmax(b))  # Output: 2 (index in flattened array, max is 7)\n"
   ]
  },
  {
   "cell_type": "markdown",
   "id": "30ac70c3-ebf6-4607-befb-047c3e26ccaf",
   "metadata": {},
   "source": [
    "# getting array from existing data that data stored in tuple list dict and all kind like pandas series\n"
   ]
  },
  {
   "cell_type": "code",
   "execution_count": 20,
   "id": "ea4cff2d-7134-4971-b8fe-f9b3b0ea89c0",
   "metadata": {},
   "outputs": [
    {
     "data": {
      "text/plain": [
       "0    1\n",
       "1    2\n",
       "2    3\n",
       "3    4\n",
       "4    5\n",
       "dtype: int64"
      ]
     },
     "execution_count": 20,
     "metadata": {},
     "output_type": "execute_result"
    }
   ],
   "source": [
    "import pandas as pd\n",
    "c = pd.Series([1,2,3,4,5,6,6,6,54,4])\n",
    "c.head()\n",
    "# if you wnte to convert teh series into pandas then use asarray function\n"
   ]
  },
  {
   "cell_type": "markdown",
   "id": "c70baea0-6e8a-489d-bdbf-a2363e9b6f39",
   "metadata": {},
   "source": [
    "# crr = np.asarray(c)# ->asarray changes to array form the seris\n",
    "# print(crr)"
   ]
  },
  {
   "cell_type": "code",
   "execution_count": 21,
   "id": "090b514f-5cf1-4691-b78f-3dd39551efad",
   "metadata": {},
   "outputs": [
    {
     "name": "stdout",
     "output_type": "stream",
     "text": [
      "[ 1  2  3  4  5  6  6  6 54  4]\n"
     ]
    }
   ],
   "source": [
    "crr = np.asarray(c) \n",
    "print(crr)"
   ]
  },
  {
   "cell_type": "markdown",
   "id": "af9709c6-3fb7-48eb-b669-f3b692985190",
   "metadata": {},
   "source": [
    "# numpy brocasting used for sme operations like 2d array add the array"
   ]
  },
  {
   "cell_type": "markdown",
   "id": "ffe5f963-482d-483b-aca3-4343ade8e12f",
   "metadata": {},
   "source": [
    "# rule 1 -> arrays with same shape are compatible ,if not exiest the rule then we cannot use btodcastig\n"
   ]
  },
  {
   "cell_type": "code",
   "execution_count": 23,
   "id": "2fae7733-c717-4314-91f7-474d1e3fe718",
   "metadata": {
    "scrolled": true
   },
   "outputs": [
    {
     "name": "stdout",
     "output_type": "stream",
     "text": [
      "the addition values ar: [2 4 6 8]\n"
     ]
    }
   ],
   "source": [
    "import numpy as np\n",
    "a = np.array([1,2,3,4])#-> shape is 1,3\n",
    "b = np.array([1,2,3,4])# shape is 1,3\n",
    "c = a+b\n",
    "print(\"the addition values ar:\",c)"
   ]
  },
  {
   "cell_type": "markdown",
   "id": "ec46caec-b91c-4797-9ac9-c52598a33880",
   "metadata": {},
   "source": [
    "# the addition values ar: [2 4 6 8]\n"
   ]
  },
  {
   "attachments": {},
   "cell_type": "markdown",
   "id": "30c5ab72-c6f1-46c8-a126-2761141b5572",
   "metadata": {},
   "source": [
    "# rule 2 -> arrays with dimension of size 1 are streched or repeated along that dimension\n",
    "# eg [2,3,1]->shape1,3  nd [2,3,4] ->shape 2,3    ---> it will return the it will streched like [2,3,1] 3 tuimes\n",
    "   #                         [4,5,6]\n",
    "\n",
    "# shepe (1,3) and shpe(4,3)\n",
    "# shape(2,1) and (2,3)\n",
    "#(1,1) and (3,1)"
   ]
  },
  {
   "cell_type": "markdown",
   "id": "c1d6662c-afe8-4e86-8f13-78ddcac1e8ef",
   "metadata": {},
   "source": [
    "# rule 3 arrays with size 1 in a particular dimesion act as if they had the size of max shape zlongb that dimension\n",
    "# Ex division of 1 dimensitiona arrey by a scalar "
   ]
  },
  {
   "cell_type": "code",
   "execution_count": 25,
   "id": "b34ac1cc-efd9-4155-9236-9a7d0255bac7",
   "metadata": {},
   "outputs": [
    {
     "name": "stdout",
     "output_type": "stream",
     "text": [
      "[[3 5 7]\n",
      " [4 6 8]\n",
      " [6 6 6]\n",
      " [5 7 9]]\n"
     ]
    }
   ],
   "source": [
    "# rule 2\n",
    "n1 = np.array([[1,2,3]])# -> thise expands the same row 4 times to add() like [[[[1,2,3],[1,2,3],[1,2,3],[1,2,3]]]] like thise so it can add smothelly\n",
    "n2 = np.array([[2,3,4],\n",
    "               [3,4,5],\n",
    "               [5,4,3],\n",
    "               [4,5,6]])\n",
    "addition = n1+n2\n",
    "print(addition)"
   ]
  },
  {
   "cell_type": "code",
   "execution_count": 18,
   "id": "1808cc23-8098-41f5-9716-910450c79f67",
   "metadata": {},
   "outputs": [],
   "source": [
    "#rule 3 scalar\n"
   ]
  },
  {
   "cell_type": "code",
   "execution_count": 26,
   "id": "49915b2c-d9ad-4b65-877a-b89f983e2957",
   "metadata": {},
   "outputs": [
    {
     "name": "stdout",
     "output_type": "stream",
     "text": [
      "[[9 8 7]\n",
      " [7 6 5]\n",
      " [5 6 7]\n",
      " [6 5 4]]\n"
     ]
    }
   ],
   "source": [
    "n1 = np.array([[1,2,3],\n",
    "               [3,4,5],\n",
    "               [5,4,3],\n",
    "               [4,5,6]])\n",
    "s = 10\n",
    "new_arr = 10-n1\n",
    "print(new_arr) # subracts the matrix with the scalar value\n"
   ]
  },
  {
   "cell_type": "markdown",
   "id": "2ce2bb0f-7066-40fe-812c-b33b1e983f10",
   "metadata": {},
   "source": [
    "# another method to create array \n",
    "# frombuffer --> creates a new 1d arr from buffer obj, buff obj is memeory stored in seq of bytes such a sstring ,bytes\n",
    "\n",
    "\n",
    "\n",
    "# syntax         numpy.frombuffer(buffer_object , dtype = float ,count =-1,offset =0)"
   ]
  },
  {
   "cell_type": "code",
   "execution_count": 27,
   "id": "ec77f80e-54cc-4b97-8f99-738081eaa08c",
   "metadata": {},
   "outputs": [],
   "source": [
    "# buffer to array"
   ]
  },
  {
   "cell_type": "code",
   "execution_count": 27,
   "id": "640c9489-ebf6-4763-aa76-fe6d8344e201",
   "metadata": {},
   "outputs": [
    {
     "name": "stdout",
     "output_type": "stream",
     "text": [
      "[1 4 5 7]\n"
     ]
    }
   ],
   "source": [
    "import numpy as np\n",
    "\n",
    "buffer_obj = b'\\x01\\x04\\x05\\x07'\n",
    "ar = np.frombuffer(buffer_obj, dtype= np.uint8)\n",
    "\n",
    "print(ar)\n",
    "\n"
   ]
  },
  {
   "cell_type": "markdown",
   "id": "7285b005-a74c-4850-939b-aff816eafcdc",
   "metadata": {},
   "source": [
    "# ❓ Why dtype=np.uint8 is used here:\n",
    "🔹 1. Each \\xNN is 1 byte\n",
    "b'\\x01\\x04\\x05\\x07' is a byte string, 4 bytes total.\n",
    "\n",
    "uint8 = unsigned 8-bit integer = 1 byte.\n",
    "\n",
    "So the buffer splits cleanly into 4 values: [1, 4, 5, 7]."
   ]
  },
  {
   "cell_type": "markdown",
   "id": "f14774c7-023a-4fe4-822d-f98285832ed1",
   "metadata": {},
   "source": [
    "# fromiter \n",
    "it creates a new one d aray from iterabel obj like tuple strings\n",
    "syntax numpy.formitter(iteratable_obj , dtype , count =1)\n",
    "itertable obh is called as the tuple and list"
   ]
  },
  {
   "cell_type": "markdown",
   "id": "57bab89c-2aab-45ea-83ce-0835ae670e41",
   "metadata": {},
   "source": [
    "exaple 1"
   ]
  },
  {
   "cell_type": "code",
   "execution_count": 30,
   "id": "f7ba3b2a-b7c5-4de3-9c0a-a06246c79df3",
   "metadata": {},
   "outputs": [
    {
     "name": "stdout",
     "output_type": "stream",
     "text": [
      "[1 2 3 4 5]\n"
     ]
    }
   ],
   "source": [
    "import numpy as np\n",
    "lst = [1,2,3,4,5]\n",
    "n = np.fromiter(lst,np.int32)\n",
    "print(n)"
   ]
  },
  {
   "cell_type": "code",
   "execution_count": 42,
   "id": "3b65273d-d9e7-495a-a991-d51de9d38cc3",
   "metadata": {},
   "outputs": [
    {
     "name": "stdout",
     "output_type": "stream",
     "text": [
      "<class 'list'>\n",
      "<class 'numpy.ndarray'>\n"
     ]
    }
   ],
   "source": [
    "#it is a array not list it retrives the list from and conver to the array proof\n",
    "print(type(lst))\n",
    "print(type(n))"
   ]
  },
  {
   "cell_type": "code",
   "execution_count": 43,
   "id": "ea78b461-7937-4f64-8d4d-c293e62f5b9b",
   "metadata": {},
   "outputs": [],
   "source": [
    "# u can use dict"
   ]
  },
  {
   "cell_type": "code",
   "execution_count": 36,
   "id": "48f97c7d-40c4-4ed3-b2a3-194dd5ad7183",
   "metadata": {},
   "outputs": [
    {
     "name": "stdout",
     "output_type": "stream",
     "text": [
      "[(1, 'ragul') (2, 'sujith') (3, 'kusu_siva') (4, 'balaji')]\n"
     ]
    }
   ],
   "source": [
    "dicet = {1:'ragul',2:'sujith',3:'kusu_siva',4:'balaji'}\n",
    "new_arr_from_dict = np.fromiter( dicet.items(), dtype =np.chararray) # for  keys() dtype is int <> valus np.str but we need the both so do np.chararr\n",
    "print(new_arr_from_dict)"
   ]
  },
  {
   "cell_type": "markdown",
   "id": "dbbeee87-fd67-49ff-820a-7da26c7a3355",
   "metadata": {},
   "source": [
    "# for loop"
   ]
  },
  {
   "cell_type": "code",
   "execution_count": 88,
   "id": "9d26b79e-bb57-4122-8d1b-980af57c621d",
   "metadata": {},
   "outputs": [
    {
     "name": "stdout",
     "output_type": "stream",
     "text": [
      "[[1 2 3]\n",
      " [2 3 4]\n",
      " [6 7 8]\n",
      " [8 6 4]]\n",
      "12\n"
     ]
    }
   ],
   "source": [
    "import numpy as np\n",
    "arr = np.array([[1,2,3],\n",
    "                [2,3,4],\n",
    "                [6,7,8],\n",
    "                [8,6,4]])\n",
    "print(arr)\n",
    "print(arr.size)"
   ]
  },
  {
   "cell_type": "code",
   "execution_count": 93,
   "id": "eef46004-d5e9-4198-95bf-f4c555296b45",
   "metadata": {},
   "outputs": [
    {
     "name": "stdout",
     "output_type": "stream",
     "text": [
      "[1 2 3]\n",
      "[2 3 4]\n",
      "[6 7 8]\n",
      "[8 6 4]\n"
     ]
    }
   ],
   "source": [
    "for i in arr:\n",
    "    print(i)\n",
    "        "
   ]
  },
  {
   "cell_type": "markdown",
   "id": "abb79387-cbba-4e7f-acfc-360c38d4589a",
   "metadata": {},
   "source": [
    "# iterte the 2d arraywith o/t nested loop by np.nditer"
   ]
  },
  {
   "cell_type": "code",
   "execution_count": 40,
   "id": "69f173c9-f795-4390-9641-7784513df934",
   "metadata": {},
   "outputs": [
    {
     "name": "stdout",
     "output_type": "stream",
     "text": [
      "1\n",
      "3\n",
      "4\n",
      "5\n",
      "2\n",
      "3\n",
      "5\n",
      "6\n"
     ]
    }
   ],
   "source": [
    "import numpy as np\n",
    "arr = np.array([[1,3,4,5],\n",
    "                [2,3,5,6]])\n",
    "for i in np.nditer(arr,order = 'c'): #  c denotes the iteration should happen in rows wise like thise  --------> \\n <------------\n",
    "    print(i)                         #f  denotes the iteration should happen in colum wise like thise  --------> \\n <------------"
   ]
  },
  {
   "cell_type": "code",
   "execution_count": 3,
   "id": "f766587f-eb2c-486e-b0d6-ef0bff8cd453",
   "metadata": {},
   "outputs": [
    {
     "name": "stdout",
     "output_type": "stream",
     "text": [
      "1\n",
      "2\n",
      "3\n",
      "3\n",
      "4\n",
      "5\n",
      "5\n",
      "6\n"
     ]
    }
   ],
   "source": [
    "import numpy as np\n",
    "arr = np.array([[1,3,4,5],\n",
    "                [2,3,5,6]])\n",
    "for i in np.nditer(arr,order = 'f'): #  c denotes the iteration should happen in rows wise like thise  --------> \\n <------------\n",
    "    print(i)    "
   ]
  },
  {
   "cell_type": "code",
   "execution_count": 10,
   "id": "05d919e8-7ecc-487d-b911-7ec5ece6bf37",
   "metadata": {},
   "outputs": [
    {
     "name": "stdout",
     "output_type": "stream",
     "text": [
      "((0, 0), 1)\n",
      "((0, 1), 3)\n",
      "((0, 2), 4)\n",
      "((0, 3), 5)\n",
      "((1, 0), 2)\n",
      "((1, 1), 3)\n",
      "((1, 2), 5)\n",
      "((1, 3), 6)\n",
      "((2, 0), 3)\n",
      "((2, 1), 4)\n",
      "((2, 2), 5)\n",
      "((2, 3), 10)\n"
     ]
    }
   ],
   "source": [
    "# enumerate function it is used to iterate like np.nditer but print the indices alsoimport numpy as np\n",
    "ar = np.array([[1,3,4,5],\n",
    "                [2,3,5,6],\n",
    "                [3,4,5,10]])\n",
    "for i in np.ndenumerate(arr ): \n",
    "    print(i)"
   ]
  },
  {
   "cell_type": "markdown",
   "id": "d83771f3-abaa-4fa5-98ee-08baa18274e7",
   "metadata": {},
   "source": [
    "# update numpy array elements \n",
    "1)fill method\n",
    " 2)direct assingment method (index nad slicing)\n",
    "3)put methos\n",
    "4)boolean indexing method"
   ]
  },
  {
   "cell_type": "code",
   "execution_count": 22,
   "id": "d371b590-e993-4c44-a566-d2bb433c7dfd",
   "metadata": {},
   "outputs": [
    {
     "name": "stdout",
     "output_type": "stream",
     "text": [
      "[0. 0. 0. 0.]\n",
      "[10. 10. 10. 10.]\n"
     ]
    }
   ],
   "source": [
    "# 1) method np.fill -> fills the entire array with the specifiea value\n",
    "# step like we are  having zero array\n",
    "import numpy as np\n",
    "arr = np.zeros(4)\n",
    "print(arr)\n",
    "arr.fill(10)      \n",
    "print(arr)"
   ]
  },
  {
   "cell_type": "markdown",
   "id": "19bd7a6c-dbb5-42d4-aa45-683fb01b879a",
   "metadata": {},
   "source": [
    "# 2nd method for update aray"
   ]
  },
  {
   "cell_type": "code",
   "execution_count": 23,
   "id": "ef765ccc-244a-4144-a34b-d9cf79e756b0",
   "metadata": {},
   "outputs": [],
   "source": [
    "# dirext assignment  -> you can update array values by diretly assingning new values to specific indices or slices of the array"
   ]
  },
  {
   "cell_type": "code",
   "execution_count": 37,
   "id": "530f1bac-2d63-4aae-ad4b-28a4dd9f1f57",
   "metadata": {},
   "outputs": [
    {
     "name": "stdout",
     "output_type": "stream",
     "text": [
      "[1 2 3 4 5 6 7 8 9]\n",
      "[9 8 7 6 5 6 7 8 9]\n",
      "[100   8   7   6   5   6   7   8   9]\n"
     ]
    }
   ],
   "source": [
    "import numpy as np\n",
    "arr = np.arange(1,10)\n",
    "print(arr)# - >befor update \n",
    "arr[0:5] = [9,8,7,6,5]\n",
    "print(arr) #-> after update\n",
    "#for i in np.ndenumerate(arr):\n",
    "    #print(i)\n",
    "arr[0] = 100\n",
    "print(arr)"
   ]
  },
  {
   "cell_type": "markdown",
   "id": "e3f9c771-e1bb-46e9-abb3-377f325ec18d",
   "metadata": {},
   "source": [
    "# 3 rd method to update values"
   ]
  },
  {
   "cell_type": "code",
   "execution_count": 38,
   "id": "b2cf8710-3d44-4569-be7d-b18eed2bd9da",
   "metadata": {},
   "outputs": [],
   "source": [
    "# put  -> update the new elements by only by [0,2,3] only indeies"
   ]
  },
  {
   "cell_type": "code",
   "execution_count": 44,
   "id": "81401c44-140b-4b95-832c-47b54498961e",
   "metadata": {},
   "outputs": [
    {
     "name": "stdout",
     "output_type": "stream",
     "text": [
      "b4 update\n",
      "[1 4 6 4 3 2]\n",
      "after update\n",
      "[  1   4   6 100 100 100]\n"
     ]
    }
   ],
   "source": [
    "import numpy as np\n",
    "arr = np.array([1,4,6,4,3,2])\n",
    "print(\"b4 update\")\n",
    "print(arr)\n",
    "np.put(arr,[3,4,5],[100,100,100]) #-> arr name , it change  to be change , what to be replace\n",
    "print(\"after update\")\n",
    "print(arr)\n"
   ]
  },
  {
   "cell_type": "markdown",
   "id": "ed801f0a-2e33-4ea0-a523-72d9c1427906",
   "metadata": {},
   "source": [
    "# 4th method to updatevalues"
   ]
  },
  {
   "cell_type": "raw",
   "id": "34fc1393-b10f-4024-8a46-1c08c238ccc9",
   "metadata": {},
   "source": [
    "boolean indexing = you can use bolean indexing to update array vaues based on certina conditions"
   ]
  },
  {
   "cell_type": "code",
   "execution_count": 46,
   "id": "3f750aee-4b38-4d37-b300-4f2b618641d7",
   "metadata": {
    "scrolled": true
   },
   "outputs": [
    {
     "name": "stdout",
     "output_type": "stream",
     "text": [
      "[  1 100 100 100   3   2]\n"
     ]
    }
   ],
   "source": [
    "import numpy as np\n",
    "arr = np.array([1,4,6,4,3,2])\n",
    "# update vaues grater than 3\n",
    "arr[arr>3] = 100 # condition\n",
    "print(arr)\n"
   ]
  },
  {
   "cell_type": "code",
   "execution_count": 60,
   "id": "47e8f741-55c7-49f6-8ee2-f87015c20f7f",
   "metadata": {},
   "outputs": [
    {
     "name": "stdout",
     "output_type": "stream",
     "text": [
      "Before:\n",
      "[[ 1.  2. nan]\n",
      " [ 2. nan  3.]\n",
      " [nan  5.  6.]]\n",
      "After replacing NaN with 10:\n",
      "[[ 1.  2. 10.]\n",
      " [ 2. 10.  3.]\n",
      " [10.  5.  6.]]\n"
     ]
    }
   ],
   "source": [
    "import numpy as np\n",
    "\n",
    "arr = np.array([[1, 2, np.nan],\n",
    "                [2, np.nan, 3],\n",
    "                [np.nan, 5, 6]])\n",
    "\n",
    "print(\"Before:\")\n",
    "print(arr)\n",
    "\n",
    "arr[np.isnan(arr)] = 10\n",
    "\n",
    "print(\"After replacing NaN with 10:\")\n",
    "print(arr)\n"
   ]
  },
  {
   "cell_type": "markdown",
   "id": "023f205d-d289-4712-9b5e-2be6d5e00992",
   "metadata": {},
   "source": [
    "import numpy as np\n",
    "\n",
    "# Sample array of people's ages\n",
    "ages = np.array([15, 22, 17, 18, 45, 16, 30, 12, 19, 70])\n",
    "\n",
    "print(\"All ages:\", ages)\n",
    "\n",
    "# Get eligible voters (age >= 18)\n",
    "eligible_voters = ages[ages >= 18]\n",
    "\n",
    "print(\"Eligible voters (age >= 18):\", eligible_voters)\n",
    "\n"
   ]
  },
  {
   "cell_type": "markdown",
   "id": "41d71a86-2453-4525-b40a-a6f8e2f5ca1d",
   "metadata": {},
   "source": [
    "# flatten method"
   ]
  },
  {
   "cell_type": "code",
   "execution_count": 15,
   "id": "ebed3578-94f7-450b-8b35-23e7f99a3140",
   "metadata": {},
   "outputs": [
    {
     "name": "stdout",
     "output_type": "stream",
     "text": [
      "[[1 2 5]\n",
      " [2 4 3]\n",
      " [6 5 6]]\n",
      "[1 2 5 2 4 3 6 5 6]\n"
     ]
    }
   ],
   "source": [
    "import numpy as np\n",
    "arr = np.array([[1, 2, 5],\n",
    "                [2,4, 3],\n",
    "                [6, 5, 6]])\n",
    "print(arr)\n",
    "ar = arr.flatten()\n",
    "\n",
    "print(ar)"
   ]
  },
  {
   "cell_type": "code",
   "execution_count": 43,
   "id": "5f9c81b7-291c-4d7f-9b6a-e7f4c69c2bda",
   "metadata": {},
   "outputs": [],
   "source": [
    "arr[0][0] = 10"
   ]
  },
  {
   "cell_type": "code",
   "execution_count": 44,
   "id": "f2cd58ce-0bab-413f-8436-c8ff6af48def",
   "metadata": {},
   "outputs": [
    {
     "name": "stdout",
     "output_type": "stream",
     "text": [
      "[1 4 5 7]\n"
     ]
    }
   ],
   "source": [
    "print(ar)"
   ]
  },
  {
   "cell_type": "code",
   "execution_count": 45,
   "id": "f64dd8b4-ee27-40d8-9f2d-3e76472ffed3",
   "metadata": {},
   "outputs": [
    {
     "name": "stdout",
     "output_type": "stream",
     "text": [
      "[[10  3  4  5]\n",
      " [ 2  3  5  6]]\n"
     ]
    }
   ],
   "source": [
    "print(arr)"
   ]
  },
  {
   "cell_type": "markdown",
   "id": "7cf0c86e-e109-4f91-8e30-fd111c227980",
   "metadata": {},
   "source": [
    "# ravel meathod\n",
    "it is a method that the orignal array is changed when the cpied array also changes "
   ]
  },
  {
   "cell_type": "code",
   "execution_count": 5,
   "id": "3ca070b2-b13c-4d76-bf21-85c0464929ca",
   "metadata": {},
   "outputs": [
    {
     "name": "stdout",
     "output_type": "stream",
     "text": [
      "[[    1     2 10239     5]\n",
      " [    2     3     4     5]]\n"
     ]
    }
   ],
   "source": [
    "import numpy as np\n",
    "arr = np.array([[1,2,10239,5],\n",
    "                [2,3,4,5]])\n",
    "print(arr) # original arraay\n",
    "\n"
   ]
  },
  {
   "cell_type": "code",
   "execution_count": 6,
   "id": "ebd1ff2c-abf0-470b-8175-56817e9ff42d",
   "metadata": {},
   "outputs": [
    {
     "name": "stdout",
     "output_type": "stream",
     "text": [
      "[    1     2 10239     5     2     3     4     5]\n"
     ]
    }
   ],
   "source": [
    "ar = arr.ravel()\n",
    "print(ar)  # converst the 2d into 1d "
   ]
  },
  {
   "cell_type": "code",
   "execution_count": 7,
   "id": "77bf2eb2-0e69-4ab1-962a-93e1415897e7",
   "metadata": {},
   "outputs": [],
   "source": [
    "#if i changes the ar aarray it reflects in the main arrr\n"
   ]
  },
  {
   "cell_type": "code",
   "execution_count": 50,
   "id": "9d296598-dd44-467f-939b-62d943d7f560",
   "metadata": {},
   "outputs": [],
   "source": [
    "ar[0] = 100;"
   ]
  },
  {
   "cell_type": "code",
   "execution_count": 51,
   "id": "7406e607-1a04-411b-9d81-9da179ab402e",
   "metadata": {},
   "outputs": [
    {
     "name": "stdout",
     "output_type": "stream",
     "text": [
      "[[100   3   4   5]\n",
      " [  2   3   5   6]]\n"
     ]
    }
   ],
   "source": [
    "print(arr)"
   ]
  },
  {
   "cell_type": "markdown",
   "id": "65a16e78-f837-46e0-b30b-8eb32116aa94",
   "metadata": {},
   "source": [
    "# numpy transpose"
   ]
  },
  {
   "cell_type": "code",
   "execution_count": 46,
   "id": "3132d467-565c-4ae5-9ce2-5890618fa334",
   "metadata": {},
   "outputs": [
    {
     "name": "stdout",
     "output_type": "stream",
     "text": [
      "[[1 2 3 4]\n",
      " [5 6 7 8]]\n",
      "[[1 5]\n",
      " [2 6]\n",
      " [3 7]\n",
      " [4 8]]\n"
     ]
    }
   ],
   "source": [
    "arr = np.array([[1,2,3,4],\n",
    "                [5,6,7,8]])\n",
    "ar = np.transpose(arr)\n",
    "print(arr)\n",
    "print(ar) # it changes the coloum into rows and rows into coloums"
   ]
  },
  {
   "cell_type": "markdown",
   "id": "25633871-e044-472c-bb14-cfb659be29e7",
   "metadata": {},
   "source": [
    "# using spliting operations breaking the arrays into multiple sub arrays"
   ]
  },
  {
   "cell_type": "code",
   "execution_count": 53,
   "id": "5ec805f8-6b4b-4c41-8506-3e9c70cef6bf",
   "metadata": {},
   "outputs": [
    {
     "name": "stdout",
     "output_type": "stream",
     "text": [
      "[array([1, 2, 3, 4, 5]), array([ 5,  5, 64,  6,  6]), array([ 7,  7,  8, 67,  7])]\n"
     ]
    }
   ],
   "source": [
    "arr = np.array([1,2,3,4,5,5,5,64,6,6,7,7,8,67,7])\n",
    "n = np.split(arr,3)\n",
    "print(n) #subarray"
   ]
  },
  {
   "cell_type": "code",
   "execution_count": 9,
   "id": "7c8d4f32-d249-4033-bbe8-70b029fcfcdf",
   "metadata": {},
   "outputs": [
    {
     "name": "stdout",
     "output_type": "stream",
     "text": [
      "[[1 2 3]\n",
      " [2 3 4]\n",
      " [2 3 4]]\n"
     ]
    }
   ],
   "source": [
    "n = np.array([[1,2,3],[2,3,4],[2,3,4]])\n",
    "print(n)"
   ]
  },
  {
   "cell_type": "code",
   "execution_count": 10,
   "id": "73a6230e-6615-458e-960c-847098a5e45c",
   "metadata": {},
   "outputs": [
    {
     "name": "stdout",
     "output_type": "stream",
     "text": [
      "9\n"
     ]
    }
   ],
   "source": [
    "a= np.sum(n[2]) #n[2] is the row add and the n[:,3]\n",
    " #or any number 2 1 are the colum sum \n",
    "print(a)"
   ]
  },
  {
   "cell_type": "code",
   "execution_count": 21,
   "id": "09739075-3e60-442f-95af-7419dc31239d",
   "metadata": {},
   "outputs": [
    {
     "name": "stdout",
     "output_type": "stream",
     "text": [
      "[1 2 3 4 5 6]\n",
      "[[1 2 3 4 5 6 1 2 3 4]]\n",
      "[1 2 3 4 5 6]\n"
     ]
    }
   ],
   "source": [
    "import numpy as np\n",
    "n = np.array([1,2,3,4,5,6])\n",
    "print(n) # befoe resize\n",
    "m = np.resize(n,(1,10))# --> size should be defined there\n",
    "print(m)\n",
    "print(n)"
   ]
  },
  {
   "cell_type": "markdown",
   "id": "2a886d94-ba5c-43f0-9fd4-5050bf516b2f",
   "metadata": {},
   "source": [
    "# appending to the array like you can append numebrs and arrays\n"
   ]
  },
  {
   "cell_type": "code",
   "execution_count": 40,
   "id": "5278a792-6f04-4fe6-9c8d-9230157dd882",
   "metadata": {},
   "outputs": [
    {
     "name": "stdout",
     "output_type": "stream",
     "text": [
      "[[1 2 3 4]\n",
      " [2 3 4 5]\n",
      " [2 3 4 5]]\n",
      "----------\n",
      "[[1 2 3 4]\n",
      " [2 3 4 5]\n",
      " [2 3 4 5]\n",
      " [4 4 4 4]]\n"
     ]
    }
   ],
   "source": [
    "arr = np.array([[1,2,3,4],[2,3,4,5],[2,3,4,5]])\n",
    "print(arr) # b4 appending\n",
    "print(\"----------\")\n",
    "arr1 = np.array([4,4,4,4])\n",
    "arrr = np.append(arr,[arr1] ,axis =0)\n",
    "\n",
    "print(arrr)"
   ]
  },
  {
   "cell_type": "code",
   "execution_count": 41,
   "id": "668bdf68-8d1f-4080-ad3b-d41682d1204f",
   "metadata": {},
   "outputs": [
    {
     "name": "stdout",
     "output_type": "stream",
     "text": [
      "[[ 1  2  3 10]\n",
      " [ 4  5  6 20]\n",
      " [ 7  8  9 30]]\n"
     ]
    }
   ],
   "source": [
    "import numpy as np\n",
    "\n",
    "arr = np.array([[1, 2, 3],\n",
    "                [4, 5, 6],\n",
    "                [7, 8, 9]])\n",
    "\n",
    "new_col = np.array([[10],\n",
    "                    [20],\n",
    "                    [30]])\n",
    "\n",
    "# Option 1: using np.append\n",
    "result = np.append(arr, new_col, axis=1)\n",
    "print(result)"
   ]
  },
  {
   "cell_type": "code",
   "execution_count": 46,
   "id": "7b5062c5-2a7c-4332-9039-f851e70f9f89",
   "metadata": {},
   "outputs": [
    {
     "name": "stdout",
     "output_type": "stream",
     "text": [
      "[[    1     2     3]\n",
      " [    4     5     6]\n",
      " [    7     8 10213]]\n"
     ]
    }
   ],
   "source": [
    "arr = np.array([[1, 2, 3],\n",
    "                [4, 5, 6],\n",
    "                [7, 8, 9]]) #np.insert(arr, index, value, axis=…)\n",
    "#insert operaton\n",
    "arr[2,2] =10213\n",
    "print(arr)"
   ]
  },
  {
   "cell_type": "code",
   "execution_count": null,
   "id": "80a7364b-6999-43b1-b300-db26081e79d7",
   "metadata": {},
   "outputs": [],
   "source": [
    "new_row = [[100, 101, 102], [200, 201, 202]]  # one row per matrix\n",
    "result = np.insert(arr, 1, [100, 101, 102], axis=1)\n",
    "\n",
    "print(result)\n"
   ]
  }
 ],
 "metadata": {
  "kernelspec": {
   "display_name": "Python 3 (ipykernel)",
   "language": "python",
   "name": "python3"
  },
  "language_info": {
   "codemirror_mode": {
    "name": "ipython",
    "version": 3
   },
   "file_extension": ".py",
   "mimetype": "text/x-python",
   "name": "python",
   "nbconvert_exporter": "python",
   "pygments_lexer": "ipython3",
   "version": "3.12.7"
  }
 },
 "nbformat": 4,
 "nbformat_minor": 5
}
