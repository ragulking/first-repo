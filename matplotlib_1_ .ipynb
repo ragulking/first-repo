{
 "cells": [
  {
   "cell_type": "code",
   "execution_count": null,
   "id": "548f820b-61b1-46e6-8a20-98161bb9e127",
   "metadata": {},
   "outputs": [
    {
     "ename": "",
     "evalue": "",
     "output_type": "error",
     "traceback": [
      "\u001b[1;31mRunning cells with 'Python 3.12.6' requires the ipykernel package.\n",
      "\u001b[1;31m<a href='command:jupyter.createPythonEnvAndSelectController'>Create a Python Environment</a> with the required packages."
     ]
    }
   ],
   "source": [
    "import matplotlib.pyplot as plt\n",
    "import numpy as np\n",
    "import pandas as pd\n",
    "\n"
   ]
  },
  {
   "cell_type": "code",
   "execution_count": null,
   "id": "e448c3ae-8e0a-4ee0-858c-cd59a7d60ad2",
   "metadata": {},
   "outputs": [],
   "source": [
    "import matplotlib.pyplot as plt\n",
    "\n",
    "x = [1, 2, 3, 4, 5, 6, 7, 8]\n",
    "y = [6, 3, 2, 4, 5, 3, 2, 5]  # Now same length as x\n",
    "\n",
    "plt.plot(x, y)\n",
    "plt.xlabel(\"X values\")\n",
    "plt.ylabel(\"Y values\")\n",
    "plt.title(\"Simple Line Plot\")\n",
    "plt.grid(True)\n",
    "plt.show;\n"
   ]
  },
  {
   "cell_type": "markdown",
   "id": "3936cb74-0b1b-48fe-add6-a179e3577588",
   "metadata": {},
   "source": [
    "lets do some  other data set"
   ]
  },
  {
   "cell_type": "raw",
   "id": "5597a913-858c-4661-8bb1-591d47ffd799",
   "metadata": {},
   "source": [
    " oop approaches\n",
    "\n"
   ]
  },
  {
   "cell_type": "code",
   "execution_count": null,
   "id": "84911fe6-3384-447e-ad14-c68697811938",
   "metadata": {},
   "outputs": [],
   "source": [
    "A = [1,2,3,4,5]\n",
    "B = [23,45,22,12,65]\n",
    "#y = np.linspace(1,10,104)\n",
    "figure , axis = plt.subplots()\n",
    "#axis.plot(y , y*y)\n",
    "axis.plot(A,B)\n",
    "axis.set_title(\"RAGUL\")\n",
    "plt.show() 3#----> line plot only jus"
   ]
  },
  {
   "cell_type": "markdown",
   "id": "65f5279d-117e-4a22-964b-aa6e619b5afd",
   "metadata": {},
   "source": [
    "scatter plot values are scatterd nt making lines it plots in dott ie ....."
   ]
  },
  {
   "cell_type": "markdown",
   "id": "7558046b-6be2-43e3-a1ad-9193cd9aa83f",
   "metadata": {},
   "source": []
  },
  {
   "cell_type": "code",
   "execution_count": null,
   "id": "fbda6e8e-530e-484a-9633-16a7c580b7a2",
   "metadata": {},
   "outputs": [],
   "source": [
    "A = [1,2,3,4,5]\n",
    "B = [23,45,22,12,65]\n",
    "#y = np.linspace(1,10,104)\n",
    "figure , axis = plt.subplots()\n",
    "#axis.plot(y , y*y)\n",
    "axis.scatter(A,B)\n",
    "axis.set_title(\"RAGUL\")"
   ]
  },
  {
   "cell_type": "markdown",
   "id": "a6c44c02-0451-47b1-9764-427cdd62f924",
   "metadata": {},
   "source": [
    " bar plot"
   ]
  },
  {
   "cell_type": "code",
   "execution_count": null,
   "id": "f8eebdaf-3510-4d7d-9f97-5d3cbd48112c",
   "metadata": {},
   "outputs": [],
   "source": [
    "figure , axis = plt.subplots()\n",
    "axis.bar(A,B)\n",
    "axis.set_title(\"RAGUL\")"
   ]
  },
  {
   "cell_type": "code",
   "execution_count": null,
   "id": "40a2cbac-0ac6-45e0-b797-f8e7d63ab413",
   "metadata": {},
   "outputs": [],
   "source": [
    "cars_brand = { \"BMW\" : 1000000,\n",
    "                \"audi\" : 100000,\n",
    "                \"benz\" : 100000,\n",
    "                \"mahhendra\" : 1003240}\n"
   ]
  },
  {
   "cell_type": "code",
   "execution_count": null,
   "id": "c8f49f83-4d19-41a0-9ad7-0515fb04f3cf",
   "metadata": {},
   "outputs": [],
   "source": [
    "fig , ax = plt.subplots()\n",
    "ax.bar(cars_brand.keys(),cars_brand.values())\n",
    "ax.set_title(\"cars_brad_increase_creation\") #we wate to give for x lab and y label and fig so it takes more time to do so\n",
    "ax.set(title = \"cars_price_and production\", xlabel = \"cars\",ylabel = \"price\")"
   ]
  },
  {
   "cell_type": "code",
   "execution_count": null,
   "id": "7eef8122-6a4b-4132-9f96-71eb85486247",
   "metadata": {},
   "outputs": [],
   "source": []
  },
  {
   "cell_type": "code",
   "execution_count": null,
   "id": "3547d7e6-0dfa-457c-aaae-647d442f633b",
   "metadata": {},
   "outputs": [],
   "source": []
  }
 ],
 "metadata": {
  "kernelspec": {
   "display_name": "Python 3",
   "language": "python",
   "name": "python3"
  },
  "language_info": {
   "codemirror_mode": {
    "name": "ipython",
    "version": 3
   },
   "file_extension": ".py",
   "mimetype": "text/x-python",
   "name": "python",
   "nbconvert_exporter": "python",
   "pygments_lexer": "ipython3",
   "version": "3.12.6"
  }
 },
 "nbformat": 4,
 "nbformat_minor": 5
}
