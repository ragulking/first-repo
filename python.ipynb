{
 "cells": [
  {
   "cell_type": "code",
   "execution_count": 3,
   "id": "32a37e7d-d6e5-4378-be71-c970406f66be",
   "metadata": {},
   "outputs": [
    {
     "name": "stdout",
     "output_type": "stream",
     "text": [
      "<class 'int'>\n",
      "30\n"
     ]
    }
   ],
   "source": [
    "a=10\n",
    "b=20\n",
    "print(type(a+b))\n",
    "print(a+b)"
   ]
  },
  {
   "cell_type": "code",
   "execution_count": 10,
   "id": "d045a217-e664-4d42-9fbf-4488786818b4",
   "metadata": {
    "scrolled": true
   },
   "outputs": [
    {
     "name": "stdout",
     "output_type": "stream",
     "text": [
      "10 ragul\n"
     ]
    }
   ],
   "source": [
    "a=\"10 \"\n",
    "b= \"ragul\"\n",
    "print(a+b)"
   ]
  },
  {
   "cell_type": "code",
   "execution_count": 11,
   "id": "64367fc9-653b-427f-853b-83910512deaf",
   "metadata": {},
   "outputs": [
    {
     "name": "stdout",
     "output_type": "stream",
     "text": [
      "gopal\n"
     ]
    }
   ],
   "source": [
    "rgaul_king = \"gopal\" \n",
    "print(rgaul_king)"
   ]
  },
  {
   "cell_type": "code",
   "execution_count": 12,
   "id": "bcc74493-085f-45e1-b7aa-c28294cb891b",
   "metadata": {},
   "outputs": [
    {
     "name": "stdout",
     "output_type": "stream",
     "text": [
      "ddd\n"
     ]
    }
   ],
   "source": [
    "n2mane = \"ddd\"\n",
    "print(n2mane)"
   ]
  },
  {
   "cell_type": "code",
   "execution_count": 16,
   "id": "4d2a77bb-b16b-41b4-83a7-63b3ffb10840",
   "metadata": {},
   "outputs": [
    {
     "name": "stdout",
     "output_type": "stream",
     "text": [
      "add the value ,a*b\n"
     ]
    }
   ],
   "source": [
    "a=5\n",
    "b=2\n",
    "print(\"add the value ,a*b\")"
   ]
  },
  {
   "cell_type": "code",
   "execution_count": 12,
   "id": "c0a6495a-0c8c-45f5-b968-6409c0a54025",
   "metadata": {},
   "outputs": [
    {
     "name": "stdout",
     "output_type": "stream",
     "text": [
      "formated string\n"
     ]
    }
   ],
   "source": [
    "print(\"formated string\")\n"
   ]
  },
  {
   "cell_type": "code",
   "execution_count": 4,
   "id": "f6015cab-cb03-4190-b126-d7d89e0ba454",
   "metadata": {},
   "outputs": [
    {
     "name": "stdout",
     "output_type": "stream",
     "text": [
      "add is :23 , sub is:-3 thise is f string\n"
     ]
    }
   ],
   "source": [
    "a=10\n",
    "b=13\n",
    "print(f\"add is :{a+b} , sub is:{a-b} thise is f string\")"
   ]
  },
  {
   "cell_type": "code",
   "execution_count": 14,
   "id": "79505193-ea7c-4716-9db3-48499680911f",
   "metadata": {},
   "outputs": [
    {
     "name": "stdout",
     "output_type": "stream",
     "text": [
      "driver is bala and he picked from neelangarai and droped at tambaram and n charged 406 , ride status: completed\n"
     ]
    }
   ],
   "source": [
    " driver =\"bala\"\n",
    "pickup=\"neelangarai\"\n",
    "drop =\"tambaram\"\n",
    "fare =406\n",
    "status =\"completed\"\n",
    "print(f\"driver is {driver} and he picked from {pickup} and droped at {drop} and n charged {fare} , ride status: {status}\")"
   ]
  },
  {
   "cell_type": "code",
   "execution_count": 25,
   "id": "a0214f8a-083a-4e5f-959d-83503f068515",
   "metadata": {},
   "outputs": [
    {
     "name": "stdout",
     "output_type": "stream",
     "text": [
      "39\n"
     ]
    }
   ],
   "source": [
    "driver = 1+2+4+6+7+3\\\n",
    "         +3+1+0+1+2\\\n",
    "         +2+3+4\n",
    "\n",
    "print(driver)"
   ]
  },
  {
   "cell_type": "code",
   "execution_count": 28,
   "id": "352cf470-ebb3-4662-8333-333c00161261",
   "metadata": {},
   "outputs": [
    {
     "name": "stdout",
     "output_type": "stream",
     "text": [
      "<class 'int'>\n",
      "<class 'float'>\n",
      "10.0\n"
     ]
    }
   ],
   "source": [
    "a=10\n",
    "print(type(a))\n",
    "b =float(a)\n",
    "print(type(b))\n",
    "print(b)"
   ]
  },
  {
   "cell_type": "code",
   "execution_count": 6,
   "id": "3e486279-99fc-4440-9454-cdddecbdd867",
   "metadata": {},
   "outputs": [
    {
     "name": "stdin",
     "output_type": "stream",
     "text": [
      " 2\n"
     ]
    },
    {
     "ename": "NameError",
     "evalue": "name 'i' is not defined",
     "output_type": "error",
     "traceback": [
      "\u001b[1;31m---------------------------------------------------------------------------\u001b[0m",
      "\u001b[1;31mNameError\u001b[0m                                 Traceback (most recent call last)",
      "Cell \u001b[1;32mIn[6], line 2\u001b[0m\n\u001b[0;32m      1\u001b[0m n \u001b[38;5;241m=\u001b[39m\u001b[38;5;28mint\u001b[39m(\u001b[38;5;28minput\u001b[39m())\n\u001b[1;32m----> 2\u001b[0m \u001b[38;5;28;01mfor\u001b[39;00m i \u001b[38;5;129;01min\u001b[39;00m \u001b[38;5;28mrange\u001b[39m(\u001b[38;5;241m0\u001b[39m,i):\n\u001b[0;32m      3\u001b[0m     \u001b[38;5;28mprint\u001b[39m(i)\n",
      "\u001b[1;31mNameError\u001b[0m: name 'i' is not defined"
     ]
    }
   ],
   "source": [
    "n =int(input())\n",
    "for i in range(0,i):\n",
    "    print(i)"
   ]
  },
  {
   "cell_type": "code",
   "execution_count": null,
   "id": "52305c70-42e9-4773-afd3-9af733c627bc",
   "metadata": {},
   "outputs": [],
   "source": []
  }
 ],
 "metadata": {
  "kernelspec": {
   "display_name": "Python 3 (ipykernel)",
   "language": "python",
   "name": "python3"
  },
  "language_info": {
   "codemirror_mode": {
    "name": "ipython",
    "version": 3
   },
   "file_extension": ".py",
   "mimetype": "text/x-python",
   "name": "python",
   "nbconvert_exporter": "python",
   "pygments_lexer": "ipython3",
   "version": "3.12.7"
  }
 },
 "nbformat": 4,
 "nbformat_minor": 5
}
