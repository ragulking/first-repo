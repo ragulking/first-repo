{
 "cells": [
  {
   "cell_type": "code",
   "execution_count": null,
   "id": "f9eddf24-b55f-4c77-aa35-79ea1abfd2bf",
   "metadata": {},
   "outputs": [
    {
     "ename": "",
     "evalue": "",
     "output_type": "error",
     "traceback": [
      "\u001b[1;31mRunning cells with 'Python 3.12.6' requires the ipykernel package.\n",
      "\u001b[1;31m<a href='command:jupyter.createPythonEnvAndSelectController'>Create a Python Environment</a> with the required packages."
     ]
    }
   ],
   "source": [
    "n =int(input())\n",
    "for i in range(0,n+1,2):\n",
    "    print(i)"
   ]
  },
  {
   "cell_type": "code",
   "execution_count": null,
   "id": "24c27975-443c-43d6-ad61-32dce0d75f35",
   "metadata": {},
   "outputs": [],
   "source": [
    "n =int(input())\n",
    "for i in range(0,n+1,3):\n",
    "    print(i)"
   ]
  },
  {
   "cell_type": "code",
   "execution_count": null,
   "id": "3cad5049-665b-40c0-a940-8e528a211698",
   "metadata": {
    "scrolled": true
   },
   "outputs": [],
   "source": [
    "n =int(input())\n",
    "for i in range(n,2,-2):,start stop step\n",
    "    print(i)"
   ]
  },
  {
   "cell_type": "code",
   "execution_count": null,
   "id": "64a7a071-b8a2-4388-988e-2c176d708647",
   "metadata": {},
   "outputs": [],
   "source": [
    "count_even =0\n",
    "count_odd=0\n",
    "odd_num = []\n",
    "even_num =[]\n",
    "n =int(input())\n",
    "for i in range(0,n):\n",
    "    if(i%2==0):\n",
    "        \n",
    "        print(odd_num)\n",
    "        count_even+=1\n",
    "        even_num = [i]\n",
    "\n",
    "    \n",
    "    else:\n",
    "        count_odd+=1\n",
    "        odd_num = [i]\n",
    "print(f\"even is {count_even}\")\n",
    "print(f\"odd is {count_odd}\")\n",
    "print(odd_num)\n",
    "print(even_num)\n",
    "\n",
    "    "
   ]
  },
  {
   "cell_type": "code",
   "execution_count": null,
   "id": "05601d53-7e60-4c56-a08d-ba80eec95f60",
   "metadata": {},
   "outputs": [],
   "source": []
  },
  {
   "cell_type": "code",
   "execution_count": null,
   "id": "66aeabd6-3883-4a63-914b-e442c52fecf1",
   "metadata": {},
   "outputs": [],
   "source": [
    "odd_num =0;even_num =0\n",
    "a=[]\n",
    "b=[]\n",
    "for i in range(1,20):\n",
    "    if(i%2==0):\n",
    "        a.append(i)\n",
    "        even_num+=1\n",
    "    else:\n",
    "        b.append(i)\n",
    "        odd_num+=1\n",
    "print(f\"even list is{a}\")\n",
    "print(f\"odd list is {b}\")\n",
    "print(f\"count is{even_num}\")\n",
    "print(f\"count is {odd_num}\")\n"
   ]
  },
  {
   "cell_type": "code",
   "execution_count": null,
   "id": "60b9a50e-a462-4a9c-805a-5e74432ba8f0",
   "metadata": {},
   "outputs": [],
   "source": [
    "a=int(input())\n",
    "if((a%4==0 and a%100!=0 )or (a%400==0)):\n",
    "         print( \"true\")\n",
    "else:\n",
    "        print(\"false\")\n"
   ]
  },
  {
   "cell_type": "code",
   "execution_count": null,
   "id": "6b24abe1-d3b9-4f58-ad63-620785178bd8",
   "metadata": {},
   "outputs": [],
   "source": [
    "a=int(input())\n",
    "if(a%4==0 and a%400==0 and a%100==0):\n",
    "    print(\"leap_year\")\n",
    "elif(a%4==0 and a%100!=0):\n",
    "    print(\"leap_year\")\n",
    "else:\n",
    "    print(\"not_leapy\")"
   ]
  },
  {
   "cell_type": "code",
   "execution_count": null,
   "id": "60833645-8f49-45cf-9047-99f892110f67",
   "metadata": {},
   "outputs": [],
   "source": []
  }
 ],
 "metadata": {
  "kernelspec": {
   "display_name": "Python 3",
   "language": "python",
   "name": "python3"
  },
  "language_info": {
   "codemirror_mode": {
    "name": "ipython",
    "version": 3
   },
   "file_extension": ".py",
   "mimetype": "text/x-python",
   "name": "python",
   "nbconvert_exporter": "python",
   "pygments_lexer": "ipython3",
   "version": "3.12.6"
  }
 },
 "nbformat": 4,
 "nbformat_minor": 5
}
