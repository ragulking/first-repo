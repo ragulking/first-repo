{
 "cells": [
  {
   "cell_type": "code",
   "execution_count": null,
   "id": "9e8e4644-1b11-42ee-9da8-8a40c858146c",
   "metadata": {},
   "outputs": [],
   "source": [
    "i=5\n",
    "while i<25:\n",
    "    if(i==25):\n",
    "        break\n",
    "    else:\n",
    "        i+=1\n",
    "        print(i)\n"
   ]
  },
  {
   "cell_type": "code",
   "execution_count": null,
   "id": "5a0933b2-ec2a-4c01-8676-d1d9c2b98714",
   "metadata": {},
   "outputs": [],
   "source": []
  },
  {
   "cell_type": "code",
   "execution_count": null,
   "id": "2b04ee45-41dc-454a-8f47-fd0b691d2375",
   "metadata": {},
   "outputs": [],
   "source": []
  }
 ],
 "metadata": {
  "kernelspec": {
   "display_name": "Python 3 (ipykernel)",
   "language": "python",
   "name": "python3"
  },
  "language_info": {
   "codemirror_mode": {
    "name": "ipython",
    "version": 3
   },
   "file_extension": ".py",
   "mimetype": "text/x-python",
   "name": "python",
   "nbconvert_exporter": "python",
   "pygments_lexer": "ipython3",
   "version": "3.12.7"
  }
 },
 "nbformat": 4,
 "nbformat_minor": 5
}
