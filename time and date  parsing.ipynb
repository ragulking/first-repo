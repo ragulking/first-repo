{
 "cells": [
  {
   "cell_type": "code",
   "execution_count": 1,
   "id": "3ab8f4b9-d8f9-4b21-8c70-a3b2a84b2001",
   "metadata": {},
   "outputs": [],
   "source": [
    "from datetime import datetime\n"
   ]
  },
  {
   "cell_type": "code",
   "execution_count": 2,
   "id": "ab8021bb-8d8f-4b4c-a3fa-1ae1e9d030bf",
   "metadata": {},
   "outputs": [
    {
     "name": "stdout",
     "output_type": "stream",
     "text": [
      "2025-07-30 15:45:00\n"
     ]
    }
   ],
   "source": [
    "date_str = \"2025-07-30 15:45:00\"\n",
    "parsed_date = datetime.strptime(date_str, \"%Y-%m-%d %H:%M:%S\")\n",
    "print(parsed_date)\n"
   ]
  },
  {
   "cell_type": "code",
   "execution_count": 3,
   "id": "91822b6a-8aee-4544-891e-7ae7b467af1a",
   "metadata": {},
   "outputs": [
    {
     "name": "stdout",
     "output_type": "stream",
     "text": [
      "30-07-2025 08:48 PM\n"
     ]
    }
   ],
   "source": [
    "now = datetime.now()\n",
    "formatted = now.strftime(\"%d-%m-%Y %I:%M %p\")\n",
    "print(formatted)\n"
   ]
  },
  {
   "cell_type": "code",
   "execution_count": 4,
   "id": "ebea48ae-96e7-40c6-8653-d9f547f8b96d",
   "metadata": {},
   "outputs": [
    {
     "name": "stdout",
     "output_type": "stream",
     "text": [
      "2025-07-30 20:48:57.672378\n"
     ]
    }
   ],
   "source": [
    "from datetime import datetime\n",
    "\n",
    "now = datetime.now()\n",
    "print(now)  # e.g., 2025-07-30 15:45:00\n"
   ]
  },
  {
   "cell_type": "code",
   "execution_count": 5,
   "id": "82fbce60-988c-4d9f-92b3-5c208bbb8a62",
   "metadata": {},
   "outputs": [
    {
     "name": "stdout",
     "output_type": "stream",
     "text": [
      "2025-07-30\n",
      "14:30:00\n"
     ]
    }
   ],
   "source": [
    "from datetime import date, time\n",
    "\n",
    "today = date.today()\n",
    "t = time(14, 30)\n",
    "print(today)  # 2025-07-30\n",
    "print(t)      # 14:30:00\n"
   ]
  },
  {
   "cell_type": "code",
   "execution_count": 6,
   "id": "7c006e36-184c-4da3-b72b-a671ee9462eb",
   "metadata": {},
   "outputs": [
    {
     "name": "stdout",
     "output_type": "stream",
     "text": [
      "2025-08-06 20:48:57.672378\n"
     ]
    }
   ],
   "source": [
    "from datetime import timedelta\n",
    "\n",
    "future = now + timedelta(days=7)\n",
    "print(future)  # Date 7 days from now\n"
   ]
  },
  {
   "cell_type": "code",
   "execution_count": null,
   "id": "6e2d655c-c367-4556-8a46-fbed026729e0",
   "metadata": {},
   "outputs": [],
   "source": []
  }
 ],
 "metadata": {
  "kernelspec": {
   "display_name": "Python 3 (ipykernel)",
   "language": "python",
   "name": "python3"
  },
  "language_info": {
   "codemirror_mode": {
    "name": "ipython",
    "version": 3
   },
   "file_extension": ".py",
   "mimetype": "text/x-python",
   "name": "python",
   "nbconvert_exporter": "python",
   "pygments_lexer": "ipython3",
   "version": "3.12.7"
  }
 },
 "nbformat": 4,
 "nbformat_minor": 5
}
