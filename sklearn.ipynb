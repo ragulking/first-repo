{
 "cells": [
  {
   "cell_type": "code",
   "execution_count": null,
   "id": "fe5d3077-e876-4096-9a34-c33bd57c02ef",
   "metadata": {},
   "outputs": [
    {
     "ename": "",
     "evalue": "",
     "output_type": "error",
     "traceback": [
      "\u001b[1;31mRunning cells with 'Python 3.12.6' requires the ipykernel package.\n",
      "\u001b[1;31m<a href='command:jupyter.createPythonEnvAndSelectController'>Create a Python Environment</a> with the required packages.\n",
      "\u001b[1;31mOr install 'ipykernel' using the command: 'c:/Users/ragul/AppData/Local/Programs/Python/Python312/python.exe -m pip install ipykernel -U --user --force-reinstall'"
     ]
    }
   ],
   "source": [
    "import pandas as pd\n",
    "import numpy as np\n",
    "import matplotlib.plot as plt"
   ]
  },
  {
   "cell_type": "code",
   "execution_count": null,
   "id": "4d394a1d-277e-4665-afb9-304395dbbccd",
   "metadata": {},
   "outputs": [],
   "source": [
    "students = pd.read_csv(r\"C:\\Users\\ragul\\Downloads\\student_results.csv\")"
   ]
  },
  {
   "cell_type": "code",
   "execution_count": null,
   "id": "402855c3-644d-4f09-8196-368d1fba412f",
   "metadata": {},
   "outputs": [],
   "source": [
    "students.head()\n",
    " "
   ]
  },
  {
   "cell_type": "code",
   "execution_count": null,
   "id": "d403fc0a-7cec-41b4-9ec8-19bf97399c23",
   "metadata": {},
   "outputs": [],
   "source": [
    "students.tail()"
   ]
  },
  {
   "cell_type": "code",
   "execution_count": null,
   "id": "65c9adf4-0a97-4127-8e42-10dded6ca70e",
   "metadata": {},
   "outputs": [],
   "source": [
    "students.head()"
   ]
  },
  {
   "cell_type": "code",
   "execution_count": null,
   "id": "94ead2a7-676e-4930-ba60-866114747c96",
   "metadata": {},
   "outputs": [],
   "source": [
    "X = students.drop(\"PassOrFail\" , axis =1)"
   ]
  },
  {
   "cell_type": "code",
   "execution_count": null,
   "id": "2dc0867e-775a-4856-80a8-5370ceaf3f37",
   "metadata": {},
   "outputs": [],
   "source": [
    "x"
   ]
  },
  {
   "cell_type": "code",
   "execution_count": null,
   "id": "b47daa2c-0061-43bd-a619-1e82b5e2b7e1",
   "metadata": {},
   "outputs": [],
   "source": [
    "y"
   ]
  },
  {
   "cell_type": "code",
   "execution_count": null,
   "id": "58d1b8e6-1401-457b-b23b-3bcd0965ba93",
   "metadata": {},
   "outputs": [],
   "source": [
    "y = students[\"PassOrFail\"]"
   ]
  },
  {
   "cell_type": "code",
   "execution_count": null,
   "id": "6f0edde7-c25f-4254-a256-e86dca526fe4",
   "metadata": {},
   "outputs": [],
   "source": [
    "from sklearn.model_selection import train_test_split"
   ]
  },
  {
   "cell_type": "code",
   "execution_count": null,
   "id": "54411083-d8b6-456e-825d-4cb1189d236a",
   "metadata": {},
   "outputs": [],
   "source": [
    "X_train,X_test,y_train,y_test= train_test_split(X,y,test_size = 0.2)"
   ]
  },
  {
   "cell_type": "code",
   "execution_count": null,
   "id": "c2bebadc-a813-421c-8632-82f3adaec266",
   "metadata": {},
   "outputs": [],
   "source": [
    "X_train.shape()"
   ]
  },
  {
   "cell_type": "code",
   "execution_count": null,
   "id": "e69ff933-974a-4009-9a18-c5dc80b54d12",
   "metadata": {},
   "outputs": [],
   "source": [
    "plt.plot(x,y)"
   ]
  },
  {
   "cell_type": "code",
   "execution_count": null,
   "id": "5760f119-c6ce-4477-a448-ba843d7bc95a",
   "metadata": {},
   "outputs": [],
   "source": []
  }
 ],
 "metadata": {
  "kernelspec": {
   "display_name": "Python 3",
   "language": "python",
   "name": "python3"
  },
  "language_info": {
   "codemirror_mode": {
    "name": "ipython",
    "version": 3
   },
   "file_extension": ".py",
   "mimetype": "text/x-python",
   "name": "python",
   "nbconvert_exporter": "python",
   "pygments_lexer": "ipython3",
   "version": "3.12.6"
  }
 },
 "nbformat": 4,
 "nbformat_minor": 5
}
