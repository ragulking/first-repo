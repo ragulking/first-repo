{
 "cells": [
  {
   "cell_type": "code",
   "execution_count": 2,
   "id": "35b91702-063c-48c6-b41e-f950a58419e3",
   "metadata": {},
   "outputs": [],
   "source": [
    "#How to read these guides"
   ]
  },
  {
   "cell_type": "code",
   "execution_count": 28,
   "id": "32973cd3-9cd4-496c-a62e-77ee946d11f2",
   "metadata": {},
   "outputs": [],
   "source": [
    "import pandas as pd\n",
    "badu =pd.DataFrame({'A': [1, 2, 3],'B':[4,5,6]} ,index =['one','two','three'] \n",
    "                   )"
   ]
  },
  {
   "cell_type": "code",
   "execution_count": 29,
   "id": "112a58d5-e494-4705-b152-14ee84e39b82",
   "metadata": {},
   "outputs": [
    {
     "name": "stdout",
     "output_type": "stream",
     "text": [
      "       A  B\n",
      "one    1  4\n",
      "two    2  5\n",
      "three  3  6\n"
     ]
    }
   ],
   "source": [
    "print(badu)"
   ]
  },
  {
   "cell_type": "code",
   "execution_count": 35,
   "id": "8ed0da5a-2131-45d3-9025-88ccf3f03fcf",
   "metadata": {
    "scrolled": true
   },
   "outputs": [
    {
     "ename": "TypeError",
     "evalue": "'method' object is not subscriptable",
     "output_type": "error",
     "traceback": [
      "\u001b[1;31m---------------------------------------------------------------------------\u001b[0m",
      "\u001b[1;31mTypeError\u001b[0m                                 Traceback (most recent call last)",
      "Cell \u001b[1;32mIn[35], line 1\u001b[0m\n\u001b[1;32m----> 1\u001b[0m badu\u001b[38;5;241m.\u001b[39mdrop[ \u001b[38;5;124m'\u001b[39m\u001b[38;5;124mB\u001b[39m\u001b[38;5;124m'\u001b[39m]\n",
      "\u001b[1;31mTypeError\u001b[0m: 'method' object is not subscriptable"
     ]
    }
   ],
   "source": [
    "badu.drop[ 'B']\n",
    "\n"
   ]
  },
  {
   "cell_type": "code",
   "execution_count": 26,
   "id": "62c53413-2a47-49b7-84c1-31817c3e4f36",
   "metadata": {},
   "outputs": [
    {
     "name": "stdout",
     "output_type": "stream",
     "text": [
      "       A\n",
      "one    1\n",
      "two    2\n",
      "three  3\n"
     ]
    }
   ],
   "source": [
    "print(badu)"
   ]
  },
  {
   "cell_type": "code",
   "execution_count": null,
   "id": "80f5dd42-5972-405b-a66f-e092a0f5486f",
   "metadata": {},
   "outputs": [],
   "source": []
  }
 ],
 "metadata": {
  "kernelspec": {
   "display_name": "Python 3 (ipykernel)",
   "language": "python",
   "name": "python3"
  },
  "language_info": {
   "codemirror_mode": {
    "name": "ipython",
    "version": 3
   },
   "file_extension": ".py",
   "mimetype": "text/x-python",
   "name": "python",
   "nbconvert_exporter": "python",
   "pygments_lexer": "ipython3",
   "version": "3.12.7"
  }
 },
 "nbformat": 4,
 "nbformat_minor": 5
}
