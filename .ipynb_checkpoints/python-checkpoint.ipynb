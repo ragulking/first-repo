{
 "cells": [
  {
   "cell_type": "code",
   "execution_count": null,
   "id": "32a37e7d-d6e5-4378-be71-c970406f66be",
   "metadata": {},
   "outputs": [
    {
     "name": "stdout",
     "output_type": "stream",
     "text": [
      "<class 'int'>\n",
      "30\n"
     ]
    }
   ],
   "source": [
    "a=10\n",
    "b=20\n",
    "print(type(a+b))\n",
    "print(a+b)"
   ]
  },
  {
   "cell_type": "code",
   "execution_count": null,
   "id": "d045a217-e664-4d42-9fbf-4488786818b4",
   "metadata": {},
   "outputs": [
    {
     "name": "stdout",
     "output_type": "stream",
     "text": [
      "10 ragul\n"
     ]
    }
   ],
   "source": [
    "a=\"10 \"\n",
    "b= \"ragul\"\n",
    "print(a+b)"
   ]
  },
  {
   "cell_type": "code",
   "execution_count": null,
   "id": "64367fc9-653b-427f-853b-83910512deaf",
   "metadata": {},
   "outputs": [
    {
     "name": "stdout",
     "output_type": "stream",
     "text": [
      "gopal\n"
     ]
    }
   ],
   "source": [
    "rgaul_king = \"gopal\" \n",
    "print(rgaul_king)"
   ]
  },
  {
   "cell_type": "code",
   "execution_count": null,
   "id": "bcc74493-085f-45e1-b7aa-c28294cb891b",
   "metadata": {},
   "outputs": [
    {
     "name": "stdout",
     "output_type": "stream",
     "text": [
      "ddd\n"
     ]
    }
   ],
   "source": [
    "n2mane = \"ddd\"\n",
    "print(n2mane)"
   ]
  },
  {
   "cell_type": "code",
   "execution_count": null,
   "id": "4d2a77bb-b16b-41b4-83a7-63b3ffb10840",
   "metadata": {},
   "outputs": [
    {
     "name": "stdout",
     "output_type": "stream",
     "text": [
      "add the value ,a*b\n"
     ]
    }
   ],
   "source": [
    "a=5\n",
    "b=2\n",
    "print(\"add the value ,a*b\")"
   ]
  },
  {
   "cell_type": "code",
   "execution_count": null,
   "id": "c0a6495a-0c8c-45f5-b968-6409c0a54025",
   "metadata": {},
   "outputs": [],
   "source": [
    "print(a)"
   ]
  },
  {
   "cell_type": "code",
   "execution_count": null,
   "id": "ce3d1ebf",
   "metadata": {},
   "outputs": [],
   "source": []
  }
 ],
 "metadata": {
  "kernelspec": {
   "display_name": "Python 3 (ipykernel)",
   "language": "python",
   "name": "python3"
  },
  "language_info": {
   "codemirror_mode": {
    "name": "ipython",
    "version": 3
   },
   "file_extension": ".py",
   "mimetype": "text/x-python",
   "name": "python",
   "nbconvert_exporter": "python",
   "pygments_lexer": "ipython3",
   "version": "3.12.7"
  }
 },
 "nbformat": 4,
 "nbformat_minor": 5
}
